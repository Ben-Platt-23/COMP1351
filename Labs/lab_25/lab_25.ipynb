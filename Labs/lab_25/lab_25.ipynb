{
 "cells": [
  {
   "cell_type": "code",
   "execution_count": 1,
   "metadata": {},
   "outputs": [],
   "source": [
    "import dudraw"
   ]
  },
  {
   "cell_type": "code",
   "execution_count": 2,
   "metadata": {},
   "outputs": [],
   "source": [
    "dudraw.set_canvas_size(500, 600)\n",
    "dudraw.set_x_scale(0, 10)\n",
    "dudraw.set_y_scale(0, 12)"
   ]
  },
  {
   "cell_type": "code",
   "execution_count": 3,
   "metadata": {},
   "outputs": [],
   "source": [
    "grid = []\n",
    "for row in range(12):\n",
    "    temp = []\n",
    "    for col in range(10):\n",
    "        temp.append(0)\n",
    "    grid.append(temp)"
   ]
  },
  {
   "cell_type": "code",
   "execution_count": 4,
   "metadata": {},
   "outputs": [
    {
     "ename": "IndexError",
     "evalue": "list index out of range",
     "output_type": "error",
     "traceback": [
      "\u001b[0;31m---------------------------------------------------------------------------\u001b[0m",
      "\u001b[0;31mIndexError\u001b[0m                                Traceback (most recent call last)",
      "Cell \u001b[0;32mIn [4], line 64\u001b[0m\n\u001b[1;32m     61\u001b[0m     \u001b[38;5;28;01melif\u001b[39;00m dudraw\u001b[38;5;241m.\u001b[39mmouse_y() \u001b[38;5;241m<\u001b[39m\u001b[38;5;241m=\u001b[39m \u001b[38;5;241m12\u001b[39m \u001b[38;5;129;01mand\u001b[39;00m dudraw\u001b[38;5;241m.\u001b[39mmouse_y() \u001b[38;5;241m>\u001b[39m \u001b[38;5;241m11\u001b[39m:\n\u001b[1;32m     62\u001b[0m         y \u001b[38;5;241m=\u001b[39m \u001b[38;5;241m11\u001b[39m\n\u001b[0;32m---> 64\u001b[0m     grid[x][y] \u001b[38;5;241m+\u001b[39m\u001b[38;5;241m=\u001b[39m \u001b[38;5;241m1\u001b[39m\n\u001b[1;32m     66\u001b[0m     dudraw\u001b[38;5;241m.\u001b[39mclear(dudraw\u001b[38;5;241m.\u001b[39mWHITE)\n\u001b[1;32m     67\u001b[0m dudraw\u001b[38;5;241m.\u001b[39mshow()\n",
      "\u001b[0;31mIndexError\u001b[0m: list index out of range"
     ]
    }
   ],
   "source": [
    "while True:\n",
    "    for row in range(12):\n",
    "        dudraw.set_pen_color(dudraw.BLACK)\n",
    "        dudraw.set_pen_width(.025)\n",
    "        dudraw.line(0, row, 10, row)\n",
    "    for col in range(10):\n",
    "        dudraw.set_pen_color(dudraw.BLACK)\n",
    "        dudraw.set_pen_width(.025)\n",
    "        dudraw.line(col, 0, col, 12)\n",
    "    \n",
    "    for row in range(12):\n",
    "        for col in range(10):\n",
    "            dudraw.text(col + .5, row + .5, f'{grid[row][col]}')\n",
    "\n",
    "    if dudraw.mouse_pressed():\n",
    "        x = 0\n",
    "        y = 0\n",
    "        if dudraw.mouse_x() <= 1:\n",
    "            x = 0\n",
    "        elif dudraw.mouse_x() <= 2 and dudraw.mouse_x() > 1:\n",
    "            x = 1\n",
    "        elif dudraw.mouse_x() <= 3 and dudraw.mouse_x() > 2:\n",
    "            x = 2\n",
    "        elif dudraw.mouse_x() <= 4 and dudraw.mouse_x() > 3:\n",
    "            x = 3\n",
    "        elif dudraw.mouse_x() <= 5 and dudraw.mouse_x() > 4:\n",
    "            x = 4\n",
    "        elif dudraw.mouse_x() <= 6 and dudraw.mouse_x() > 5:\n",
    "            x = 5\n",
    "        elif dudraw.mouse_x() <= 7 and dudraw.mouse_x() > 6:\n",
    "            x = 6\n",
    "        elif dudraw.mouse_x() <= 8 and dudraw.mouse_x() > 7:\n",
    "            x = 7\n",
    "        elif dudraw.mouse_x() <= 9 and dudraw.mouse_x() > 8:\n",
    "            x = 8\n",
    "        elif dudraw.mouse_x() <= 10 and dudraw.mouse_x() > 9:\n",
    "            x = 9\n",
    "        \n",
    "        if dudraw.mouse_y() <= 1:\n",
    "            y = 0\n",
    "        elif dudraw.mouse_y() <= 2 and dudraw.mouse_y() > 1:\n",
    "            y = 1\n",
    "        elif dudraw.mouse_y() <= 3 and dudraw.mouse_y() > 2:\n",
    "            y = 2\n",
    "        elif dudraw.mouse_y() <= 4 and dudraw.mouse_y() > 3:\n",
    "            y = 3\n",
    "        elif dudraw.mouse_y() <= 5 and dudraw.mouse_y() > 4:\n",
    "            y = 4\n",
    "        elif dudraw.mouse_y() <= 6 and dudraw.mouse_y() > 5:\n",
    "            y = 5\n",
    "        elif dudraw.mouse_y() <= 7 and dudraw.mouse_y() > 6:\n",
    "            y = 6\n",
    "        elif dudraw.mouse_y() <= 8 and dudraw.mouse_y() > 7:\n",
    "            y = 7\n",
    "        elif dudraw.mouse_y() <= 9 and dudraw.mouse_y() > 8:\n",
    "            y = 8\n",
    "        elif dudraw.mouse_y() <= 10 and dudraw.mouse_y() > 9:\n",
    "            y = 9\n",
    "        elif dudraw.mouse_y() <= 11 and dudraw.mouse_y() > 10:\n",
    "            y = 10\n",
    "        elif dudraw.mouse_y() <= 12 and dudraw.mouse_y() > 11:\n",
    "            y = 11\n",
    "        \n",
    "        grid[x][y] += 1\n",
    "\n",
    "        dudraw.clear(dudraw.WHITE)\n",
    "    dudraw.show()"
   ]
  }
 ],
 "metadata": {
  "kernelspec": {
   "display_name": "Python 3.10.7 64-bit",
   "language": "python",
   "name": "python3"
  },
  "language_info": {
   "codemirror_mode": {
    "name": "ipython",
    "version": 3
   },
   "file_extension": ".py",
   "mimetype": "text/x-python",
   "name": "python",
   "nbconvert_exporter": "python",
   "pygments_lexer": "ipython3",
   "version": "3.10.7"
  },
  "orig_nbformat": 4,
  "vscode": {
   "interpreter": {
    "hash": "aee8b7b246df8f9039afb4144a1f6fd8d2ca17a180786b69acc140d282b71a49"
   }
  }
 },
 "nbformat": 4,
 "nbformat_minor": 2
}
