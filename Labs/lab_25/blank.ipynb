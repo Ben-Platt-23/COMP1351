{
 "cells": [
  {
   "cell_type": "code",
   "execution_count": 1,
   "metadata": {},
   "outputs": [
    {
     "name": "stdout",
     "output_type": "stream",
     "text": [
      "[[0, 0, 0, 0, 0, 0, 0, 0, 0, 0], [0, 0, 0, 0, 0, 0, 0, 0, 0, 0], [0, 0, 0, 0, 0, 0, 0, 0, 0, 0], [0, 0, 0, 0, 0, 0, 0, 0, 0, 0], [0, 0, 0, 0, 0, 0, 0, 0, 0, 0], [0, 0, 0, 0, 0, 0, 0, 0, 0, 0], [0, 0, 0, 0, 0, 0, 0, 0, 0, 0], [0, 0, 0, 0, 0, 0, 0, 0, 0, 0], [0, 0, 0, 0, 0, 0, 0, 0, 0, 0], [0, 0, 0, 0, 0, 0, 0, 0, 0, 0], [0, 0, 0, 0, 0, 0, 0, 0, 0, 0], [0, 0, 0, 0, 0, 0, 0, 0, 0, 0]]\n"
     ]
    }
   ],
   "source": [
    "import dudraw \n",
    "dudraw.set_canvas_size(500,600)\n",
    "\n",
    "dudraw.set_x_scale(0,10)\n",
    "dudraw.set_y_scale(0,12)\n",
    "\n",
    "cells=[]\n",
    "for row in range(12):\n",
    "    temp=[]\n",
    "    for _ in range(10):\n",
    "        temp.append(0)\n",
    "    cells.append(temp)\n",
    "print(cells)\n",
    "\n",
    "# cell with lefthand bottom corner at (i,j) will have clicks stored in cells[j][i]\n",
    "\n",
    "while True:\n",
    "    #Draw some grid lines!\n",
    "    for row in range(12):\n",
    "        dudraw.line(0,row,10,row)\n",
    "    for col in range(10):\n",
    "        dudraw.line(col,0,col,12)\n",
    "\n",
    "    #draw our numbers\n",
    "    for row in range(12):\n",
    "        for col in range(10):\n",
    "                dudraw.text(col,row,f'{cells[row][col]}')\n",
    "\n",
    "    #listen for mouse_pressed\n",
    "    if dudraw.mouse_pressed():\n",
    "        dudraw.mouse_x()\n",
    "        dudraw.mouse_y()\n",
    "        #what do I want to do to cells?\n",
    "        #something increases by one?\n",
    "    dudraw.show(10)"
   ]
  }
 ],
 "metadata": {
  "kernelspec": {
   "display_name": "Python 3.10.7 64-bit",
   "language": "python",
   "name": "python3"
  },
  "language_info": {
   "codemirror_mode": {
    "name": "ipython",
    "version": 3
   },
   "file_extension": ".py",
   "mimetype": "text/x-python",
   "name": "python",
   "nbconvert_exporter": "python",
   "pygments_lexer": "ipython3",
   "version": "3.10.7"
  },
  "orig_nbformat": 4,
  "vscode": {
   "interpreter": {
    "hash": "aee8b7b246df8f9039afb4144a1f6fd8d2ca17a180786b69acc140d282b71a49"
   }
  }
 },
 "nbformat": 4,
 "nbformat_minor": 2
}
