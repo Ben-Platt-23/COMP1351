{
 "cells": [
  {
   "cell_type": "code",
   "execution_count": 6,
   "metadata": {},
   "outputs": [
    {
     "name": "stdout",
     "output_type": "stream",
     "text": [
      "1,1  2,1  3,1  4,1\n",
      "1,2  2,2  3,2  4,2\n",
      "1,3  2,3  3,3  4,3\n",
      "1,4  2,4  3,4  4,4\n",
      "1,5  2,5  3,5  4,5\n"
     ]
    }
   ],
   "source": [
    "for i in range(1):\n",
    "    y = 1\n",
    "    x = 1\n",
    "    for j in range(5):\n",
    "        print(str(x) + \",\" + str(y) + \n",
    "            \"  \" + str(x + 1) + \",\" + str(y) + \n",
    "            \"  \" + str(x + 2) + \",\" + str(y) + \n",
    "            \"  \" + str(x + 3) + \",\" + str(y))\n",
    "        y += 1\n"
   ]
  },
  {
   "cell_type": "code",
   "execution_count": 9,
   "metadata": {},
   "outputs": [
    {
     "name": "stdout",
     "output_type": "stream",
     "text": [
      "0\n",
      "0\n",
      "0\n",
      "1\n"
     ]
    }
   ],
   "source": [
    "count = 0\n",
    "total = 0\n",
    "for i in range(2):\n",
    "    for j in range(2):\n",
    "        count = count+1\n",
    "        total = total + i*j\n",
    "        print(total)"
   ]
  },
  {
   "cell_type": "code",
   "execution_count": 12,
   "metadata": {},
   "outputs": [
    {
     "name": "stdout",
     "output_type": "stream",
     "text": [
      "4\n",
      "1\n"
     ]
    }
   ],
   "source": [
    "count = 0\n",
    "total = 0\n",
    "for i in range(2):\n",
    "    for j in range(2):\n",
    "        count = count+1\n",
    "        total = total + i*j\n",
    "print(count)\n",
    "print(total)"
   ]
  },
  {
   "cell_type": "code",
   "execution_count": 18,
   "metadata": {},
   "outputs": [
    {
     "name": "stdout",
     "output_type": "stream",
     "text": [
      "1 2 3 4 \n",
      "2 4 6 8 \n",
      "3 6 9 12 \n"
     ]
    }
   ],
   "source": [
    "for i in range(3):\n",
    "    for j in range(4):\n",
    "        print(((i+1)*(j+1)), end = \" \")\n",
    "    print()"
   ]
  },
  {
   "cell_type": "code",
   "execution_count": 25,
   "metadata": {},
   "outputs": [
    {
     "name": "stdout",
     "output_type": "stream",
     "text": [
      "3\n",
      "6\n",
      "18\n"
     ]
    }
   ],
   "source": [
    "count = 0\n",
    "total = 0\n",
    "for i in range(1, 3):\n",
    "    for j in range(1, 4):\n",
    "        count = count+1\n",
    "        total = total + i*j\n",
    "    print(count)\n",
    "print(total)"
   ]
  },
  {
   "cell_type": "code",
   "execution_count": 23,
   "metadata": {},
   "outputs": [
    {
     "name": "stdout",
     "output_type": "stream",
     "text": [
      "2\n",
      "4\n",
      "6\n"
     ]
    }
   ],
   "source": [
    "count = 0\n",
    "total = 0\n",
    "for i in range(1, 4):\n",
    "    for j in range(1, 3):\n",
    "        count = count+1\n",
    "        total = total + i*j\n",
    "    print(count)"
   ]
  },
  {
   "cell_type": "code",
   "execution_count": 30,
   "metadata": {},
   "outputs": [
    {
     "name": "stdout",
     "output_type": "stream",
     "text": [
      "1a\n",
      "1b\n",
      "1c\n",
      "2b\n",
      "2c\n",
      "3b\n",
      "3c\n",
      "2a\n",
      "1b\n",
      "4c\n",
      "2b\n",
      "5c\n",
      "3b\n",
      "6c\n"
     ]
    }
   ],
   "source": [
    "count = 0\n",
    "total = 0\n",
    "for i in range(1, 3):\n",
    "    print(str(i) + 'a')\n",
    "    for j in range(1, 4):\n",
    "        print(str(j) + 'b')\n",
    "        count = count+1\n",
    "        print(str(count) + 'c')\n",
    "        total = total + i*j"
   ]
  },
  {
   "cell_type": "code",
   "execution_count": null,
   "metadata": {},
   "outputs": [],
   "source": []
  }
 ],
 "metadata": {
  "kernelspec": {
   "display_name": "Python 3.10.7 64-bit",
   "language": "python",
   "name": "python3"
  },
  "language_info": {
   "codemirror_mode": {
    "name": "ipython",
    "version": 3
   },
   "file_extension": ".py",
   "mimetype": "text/x-python",
   "name": "python",
   "nbconvert_exporter": "python",
   "pygments_lexer": "ipython3",
   "version": "3.10.7"
  },
  "orig_nbformat": 4,
  "vscode": {
   "interpreter": {
    "hash": "aee8b7b246df8f9039afb4144a1f6fd8d2ca17a180786b69acc140d282b71a49"
   }
  }
 },
 "nbformat": 4,
 "nbformat_minor": 2
}
