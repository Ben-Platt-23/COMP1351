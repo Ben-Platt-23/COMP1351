{
 "cells": [
  {
   "cell_type": "code",
   "execution_count": 4,
   "metadata": {},
   "outputs": [
    {
     "name": "stdout",
     "output_type": "stream",
     "text": [
      "['Ace', 'King', 'Queen', 'Jack', '2']\n",
      "['Spades', 'Hearts', 'Diamonds', 'Hearts', 'Clubs']\n"
     ]
    }
   ],
   "source": [
    "poker_hand = [(\"Ace\", \"Spades\"), (\"King\", \"Hearts\"), (\"Queen\", \"Diamonds\"), (\"Jack\", \"Hearts\"), (\"2\", \"Clubs\")]\n",
    "\n",
    "values = []\n",
    "suits = []\n",
    "\n",
    "\n",
    "for key, value in poker_hand:\n",
    "    values.append(key)\n",
    "    suits.append(value)\n",
    "\n",
    "print(values)\n",
    "print(suits)"
   ]
  },
  {
   "cell_type": "code",
   "execution_count": 3,
   "metadata": {},
   "outputs": [
    {
     "name": "stdout",
     "output_type": "stream",
     "text": [
      "[('Ace', 'Spades'), ('Ace', 'Hearts'), ('Ace', 'Diamonds'), ('Ace', 'Clubs'), ('2', 'Spades'), ('2', 'Hearts'), ('2', 'Diamonds'), ('2', 'Clubs'), ('3', 'Spades'), ('3', 'Hearts'), ('3', 'Diamonds'), ('3', 'Clubs'), ('4', 'Spades'), ('4', 'Hearts'), ('4', 'Diamonds'), ('4', 'Clubs'), ('5', 'Spades'), ('5', 'Hearts'), ('5', 'Diamonds'), ('5', 'Clubs'), ('6', 'Spades'), ('6', 'Hearts'), ('6', 'Diamonds'), ('6', 'Clubs'), ('7', 'Spades'), ('7', 'Hearts'), ('7', 'Diamonds'), ('7', 'Clubs'), ('8', 'Spades'), ('8', 'Hearts'), ('8', 'Diamonds'), ('8', 'Clubs'), ('9', 'Spades'), ('9', 'Hearts'), ('9', 'Diamonds'), ('9', 'Clubs'), ('10', 'Spades'), ('10', 'Hearts'), ('10', 'Diamonds'), ('10', 'Clubs'), ('Jack', 'Spades'), ('Jack', 'Hearts'), ('Jack', 'Diamonds'), ('Jack', 'Clubs'), ('Queen', 'Spades'), ('Queen', 'Hearts'), ('Queen', 'Diamonds'), ('Queen', 'Clubs'), ('King', 'Spades'), ('King', 'Hearts'), ('King', 'Diamonds'), ('King', 'Clubs')]\n",
      "52\n"
     ]
    }
   ],
   "source": [
    "card_values = [\"Ace\", \"2\", \"3\", \"4\", \"5\", \"6\", \"7\", \"8\", \"9\", \"10\", \"Jack\", \"Queen\", \"King\"]\n",
    "card_suits = [\"Spades\", \"Hearts\", \"Diamonds\", \"Clubs\"]\n",
    "\n",
    "deck = []\n",
    "\n",
    "for value in card_values:\n",
    "    for suit in card_suits:\n",
    "        deck.append((value, suit))\n",
    "\n",
    "\n",
    "print(deck)\n",
    "print(len(deck))"
   ]
  },
  {
   "cell_type": "code",
   "execution_count": 4,
   "metadata": {},
   "outputs": [
    {
     "name": "stdout",
     "output_type": "stream",
     "text": [
      "5\n"
     ]
    }
   ],
   "source": [
    "t1 = (1, 2, 3, 4, 5, 6, 7, 8, 9)\n",
    "t2 = t1[1::3]\n",
    "print(t2[1])\n"
   ]
  },
  {
   "cell_type": "code",
   "execution_count": null,
   "metadata": {},
   "outputs": [],
   "source": []
  }
 ],
 "metadata": {
  "kernelspec": {
   "display_name": "Python 3.10.7 64-bit",
   "language": "python",
   "name": "python3"
  },
  "language_info": {
   "codemirror_mode": {
    "name": "ipython",
    "version": 3
   },
   "file_extension": ".py",
   "mimetype": "text/x-python",
   "name": "python",
   "nbconvert_exporter": "python",
   "pygments_lexer": "ipython3",
   "version": "3.10.7"
  },
  "orig_nbformat": 4,
  "vscode": {
   "interpreter": {
    "hash": "aee8b7b246df8f9039afb4144a1f6fd8d2ca17a180786b69acc140d282b71a49"
   }
  }
 },
 "nbformat": 4,
 "nbformat_minor": 2
}
