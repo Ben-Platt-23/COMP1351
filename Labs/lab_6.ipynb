{
 "cells": [
  {
   "cell_type": "code",
   "execution_count": null,
   "metadata": {},
   "outputs": [],
   "source": [
    "import dudraw\n",
    "from random import random"
   ]
  },
  {
   "cell_type": "code",
   "execution_count": null,
   "metadata": {},
   "outputs": [],
   "source": [
    "def lots_of_circles():\n",
    "    dudraw.set_canvas_size(800, 400)\n",
    "    dudraw.clear(dudraw.WHITE)\n",
    "\n",
    "\n",
    "    dudraw.set_x_scale(0, 800)\n",
    "    dudraw.set_y_scale(0, 400)\n",
    "\n",
    "\n",
    "    for i in range (4000):\n",
    "        x_position = random()*800\n",
    "        y_position = random()*400\n",
    "\n",
    "        if x_position < 266:\n",
    "            dudraw.set_pen_color_rgb(80, 132, 89) # Green\n",
    "        elif x_position > 266 and y_position > 200:\n",
    "            dudraw.set_pen_color_rgb(242, 212, 100) # Yellow\n",
    "        else:\n",
    "            dudraw.set_pen_color_rgb(197, 64, 60) # Red\n",
    "        dudraw.filled_circle(x_position, y_position, 10)\n",
    "        dudraw.show(10000)"
   ]
  },
  {
   "cell_type": "code",
   "execution_count": null,
   "metadata": {},
   "outputs": [],
   "source": [
    "lots_of_circles()"
   ]
  }
 ],
 "metadata": {
  "kernelspec": {
   "display_name": "Python 3.10.7 64-bit",
   "language": "python",
   "name": "python3"
  },
  "language_info": {
   "codemirror_mode": {
    "name": "ipython",
    "version": 3
   },
   "file_extension": ".py",
   "mimetype": "text/x-python",
   "name": "python",
   "nbconvert_exporter": "python",
   "pygments_lexer": "ipython3",
   "version": "3.10.7"
  },
  "orig_nbformat": 4,
  "vscode": {
   "interpreter": {
    "hash": "aee8b7b246df8f9039afb4144a1f6fd8d2ca17a180786b69acc140d282b71a49"
   }
  }
 },
 "nbformat": 4,
 "nbformat_minor": 2
}
