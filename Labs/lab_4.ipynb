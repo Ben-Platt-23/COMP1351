{
 "cells": [
  {
   "cell_type": "markdown",
   "metadata": {},
   "source": [
    "(1)\n",
    "\n",
    "Write a Python program that does the following:\n",
    "\n",
    "Store an integer value in a variable called age.\n",
    "Check the value of age, and output a message that tells them whether or not they are old enough to be president of the United States (must be 35 years or older).\n",
    "If the user is old enough then print a message saying that they can be president. If the age they enter is less than 35, then print a message that lets them know how long they need to wait. For example \"Sorry, 4 years old is too young to be president. You need to wait 31 more years.\" If the user enters a negative number, respond with a message saying the age is invalid.\n",
    "(2)\n",
    "\n",
    "Modify the previous program so that it takes the age as input from the user. Here are a couple sample runs of the program:"
   ]
  },
  {
   "cell_type": "code",
   "execution_count": 24,
   "metadata": {},
   "outputs": [],
   "source": [
    "# Defining my function\n",
    "def president_eligibility_checker():\n",
    "    # Creating the age variable via user input\n",
    "    age = input('Please enter your age.')\n",
    "\n",
    "    # Checking if their age is greater than or equal to 35 and prints a statement if true\n",
    "    if int(age) >= 35:\n",
    "        print('You can be president!')\n",
    "    # Checking if their age is less than 35 and prints a statement if true\n",
    "    elif int(age) < 35:\n",
    "        print('You cannot be president. ' + str(age) + ' years old is too young to be president. ' + 'You need to wait ' + str(35-int(age)) + ' more years.')\n",
    "    # Checking if their age is not a positive number\n",
    "    elif int(age) <= 0:\n",
    "        print('Age is invalid.')"
   ]
  },
  {
   "cell_type": "code",
   "execution_count": 25,
   "metadata": {},
   "outputs": [
    {
     "name": "stdout",
     "output_type": "stream",
     "text": [
      "You cannot be president. -5 years old is too young to be president. You need to wait 40 more years.\n"
     ]
    }
   ],
   "source": [
    "president_eligibility_checker()"
   ]
  },
  {
   "cell_type": "code",
   "execution_count": 13,
   "metadata": {},
   "outputs": [
    {
     "name": "stdout",
     "output_type": "stream",
     "text": [
      "idk\n"
     ]
    }
   ],
   "source": [
    "age = -10\n",
    "\n",
    "if age <= 0:\n",
    "    print('idk')"
   ]
  },
  {
   "cell_type": "code",
   "execution_count": null,
   "metadata": {},
   "outputs": [],
   "source": []
  }
 ],
 "metadata": {
  "kernelspec": {
   "display_name": "Python 3.10.7 64-bit",
   "language": "python",
   "name": "python3"
  },
  "language_info": {
   "codemirror_mode": {
    "name": "ipython",
    "version": 3
   },
   "file_extension": ".py",
   "mimetype": "text/x-python",
   "name": "python",
   "nbconvert_exporter": "python",
   "pygments_lexer": "ipython3",
   "version": "3.10.7"
  },
  "orig_nbformat": 4,
  "vscode": {
   "interpreter": {
    "hash": "aee8b7b246df8f9039afb4144a1f6fd8d2ca17a180786b69acc140d282b71a49"
   }
  }
 },
 "nbformat": 4,
 "nbformat_minor": 2
}
