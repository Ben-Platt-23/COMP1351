{
 "cells": [
  {
   "cell_type": "code",
   "execution_count": 1,
   "metadata": {},
   "outputs": [],
   "source": [
    "import dudraw"
   ]
  },
  {
   "cell_type": "code",
   "execution_count": 2,
   "metadata": {},
   "outputs": [],
   "source": [
    "def draw_grid():\n",
    "    dudraw.clear(dudraw.WHITE)\n",
    "    x1 = 0\n",
    "    y1 = 12\n",
    "    x2 = 10\n",
    "    y2 = 12\n",
    "\n",
    "    x3 = 0\n",
    "    y3 = 12\n",
    "    x4 = 0\n",
    "    y4 = 0\n",
    "\n",
    "    for i in range(12):\n",
    "        dudraw.set_pen_color(dudraw.BLACK)\n",
    "        dudraw.set_pen_width(.025)\n",
    "        dudraw.line(x1, y1, x2, y2)\n",
    "        y1 -= 1\n",
    "        y2 -= 1\n",
    "        for x in range(10):\n",
    "            dudraw.set_pen_color(dudraw.BLACK)\n",
    "            dudraw.set_pen_width(.025)\n",
    "            dudraw.line(x3, y3, x4, y4)\n",
    "            x3 += 1\n",
    "            x4 += 1"
   ]
  },
  {
   "cell_type": "code",
   "execution_count": 3,
   "metadata": {},
   "outputs": [],
   "source": [
    "rows = 10\n",
    "cols = 12\n",
    "two_d_list = [[0] * cols] * rows\n",
    "\n",
    "def draw_list():\n",
    "    a = .5\n",
    "    b = .5\n",
    "    for list in two_d_list:\n",
    "        for value in list:\n",
    "            if a == 10.5:\n",
    "                a = .5\n",
    "                b += 1\n",
    "            elif a == 10.5 and b == 12.5:\n",
    "                return(True)\n",
    "            s = str(value)\n",
    "            #dudraw.set_font_family('Courier')\n",
    "            dudraw.set_font_size(16)\n",
    "            dudraw.text(a, b, s)\n",
    "            a += 1\n",
    "\n"
   ]
  },
  {
   "cell_type": "code",
   "execution_count": 4,
   "metadata": {},
   "outputs": [],
   "source": [
    "def main():\n",
    "    dudraw.set_canvas_size(500, 600)\n",
    "    dudraw.set_x_scale(0, 10)\n",
    "    dudraw.set_y_scale(0, 12)\n",
    "    draw_grid()\n",
    "    draw_list()\n",
    "    dudraw.show()"
   ]
  },
  {
   "cell_type": "code",
   "execution_count": 5,
   "metadata": {},
   "outputs": [],
   "source": [
    "main()"
   ]
  }
 ],
 "metadata": {
  "kernelspec": {
   "display_name": "Python 3.10.7 64-bit",
   "language": "python",
   "name": "python3"
  },
  "language_info": {
   "codemirror_mode": {
    "name": "ipython",
    "version": 3
   },
   "file_extension": ".py",
   "mimetype": "text/x-python",
   "name": "python",
   "nbconvert_exporter": "python",
   "pygments_lexer": "ipython3",
   "version": "3.10.7"
  },
  "orig_nbformat": 4,
  "vscode": {
   "interpreter": {
    "hash": "aee8b7b246df8f9039afb4144a1f6fd8d2ca17a180786b69acc140d282b71a49"
   }
  }
 },
 "nbformat": 4,
 "nbformat_minor": 2
}
