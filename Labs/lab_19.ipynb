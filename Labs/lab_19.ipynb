{
 "cells": [
  {
   "cell_type": "code",
   "execution_count": null,
   "metadata": {},
   "outputs": [],
   "source": [
    "def password_checker():\n",
    "    print('Your password must be at least 10 characters long,\\ncontain at least one upper-case letter,\\ncontain at least one number,\\nand contain at least one special character from ! or @.')\n",
    "    \n",
    "    password = input('Please enter your password: ')\n",
    "\n",
    "    length = False\n",
    "    has_upper = False\n",
    "    contain_number = False\n",
    "    contain_special_char = False\n",
    "    special_char_tup = ('!', '@')\n",
    "\n",
    "    if len(password) >= 10:\n",
    "        length = True\n",
    "\n",
    "    for letter in password:\n",
    "        if letter.isupper():\n",
    "            has_upper = True\n",
    "        \n",
    "\n",
    "    for value in password:\n",
    "        if value.isdigit():\n",
    "            contain_number = True\n",
    "\n",
    "    for char in password:\n",
    "        if char in special_char_tup:\n",
    "            contain_special_char = True\n",
    "  \n",
    "    if length == True and has_upper == True and contain_number == True and contain_special_char == True:\n",
    "        print('Your password is valid!!!')\n",
    "\n",
    "\n"
   ]
  },
  {
   "cell_type": "code",
   "execution_count": null,
   "metadata": {},
   "outputs": [],
   "source": [
    "password_checker()"
   ]
  },
  {
   "cell_type": "code",
   "execution_count": null,
   "metadata": {},
   "outputs": [],
   "source": []
  }
 ],
 "metadata": {
  "kernelspec": {
   "display_name": "Python 3.10.7 64-bit",
   "language": "python",
   "name": "python3"
  },
  "language_info": {
   "codemirror_mode": {
    "name": "ipython",
    "version": 3
   },
   "file_extension": ".py",
   "mimetype": "text/x-python",
   "name": "python",
   "nbconvert_exporter": "python",
   "pygments_lexer": "ipython3",
   "version": "3.10.7"
  },
  "orig_nbformat": 4,
  "vscode": {
   "interpreter": {
    "hash": "aee8b7b246df8f9039afb4144a1f6fd8d2ca17a180786b69acc140d282b71a49"
   }
  }
 },
 "nbformat": 4,
 "nbformat_minor": 2
}
