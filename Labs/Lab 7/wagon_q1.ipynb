{
 "cells": [
  {
   "cell_type": "code",
   "execution_count": 1,
   "metadata": {},
   "outputs": [
    {
     "data": {
      "text/plain": [
       "' \\n    File Name: wagon_q1.ipynb\\n    Author: Ben Platt\\n    Date: 09/26/22\\n    Course: COMP 1351\\n    Assignment: Lab 7\\n    Collaborators: None\\n    Internet Source: None\\n'"
      ]
     },
     "execution_count": 1,
     "metadata": {},
     "output_type": "execute_result"
    }
   ],
   "source": [
    "\"\"\" \n",
    "    File Name: wagon_q1.ipynb\n",
    "    Author: Ben Platt\n",
    "    Date: 09/26/22\n",
    "    Course: COMP 1351\n",
    "    Assignment: Lab 7\n",
    "    Collaborators: None\n",
    "    Internet Source: None\n",
    "\"\"\""
   ]
  },
  {
   "cell_type": "code",
   "execution_count": 2,
   "metadata": {},
   "outputs": [],
   "source": [
    "import dudraw\n",
    "import random"
   ]
  },
  {
   "cell_type": "code",
   "execution_count": 3,
   "metadata": {},
   "outputs": [],
   "source": [
    "def draw_wagon(x:float, y:float, w:float, h:float)->None:\n",
    "    \"\"\"\n",
    "    draw a little red wagon with white wheels\n",
    "\n",
    "    :param float x: x position of the lower left corner of the wagon\n",
    "    :param float y: y position of the lower left corner of the wagon\n",
    "    :param w: width of the wagon\n",
    "    :param h: height of the wagon\n",
    "    \"\"\"\n",
    "    #TODO: modify the code from the original wagon to draw a scaled and positionable version\n",
    "    dudraw.set_pen_color_rgb(255,0,0)             # red\n",
    "    dudraw.filled_rectangle(x + 0.5 * w, y + 0.5 * h, 0.45 * w, 0.4 * h)  # body of wagon\n",
    "    dudraw.set_pen_color_rgb(255,255,255)         # white for wheels\n",
    "    dudraw.filled_ellipse(x + 0.25 * w, y + 0.1 * h, 0.1 * w, 0.1 * h)    # left wheel\n",
    "    dudraw.filled_ellipse(x + 0.75 * w, y + 0.1 * h, 0.1 * w, 0.1 * h)    # right wheel\n",
    "\n",
    "\n",
    "# main program starts here\n",
    "dudraw.set_canvas_size(400, 400)\n",
    "# TODO: change the background to a color of your choice\n",
    "dudraw.clear(dudraw.LIGHT_GRAY)\n",
    "draw_wagon(0, 0, 0.5, 0.5)     # Bottom left big one\n",
    "\n",
    "draw_wagon(0.5, 0.75, 0.25, 0.25)   \n",
    "draw_wagon(0.5, 0.50, 0.25, 0.25)\n",
    "draw_wagon(0.75, 0.50, 0.25, 0.25)\n",
    "draw_wagon(0.75, 0.75, 0.25, 0.25)\n",
    "\n",
    "# TODO: add code that will draw a wagon at a random location, with random width and height\n",
    "dudraw.show()"
   ]
  }
 ],
 "metadata": {
  "kernelspec": {
   "display_name": "Python 3.10.7 64-bit",
   "language": "python",
   "name": "python3"
  },
  "language_info": {
   "codemirror_mode": {
    "name": "ipython",
    "version": 3
   },
   "file_extension": ".py",
   "mimetype": "text/x-python",
   "name": "python",
   "nbconvert_exporter": "python",
   "pygments_lexer": "ipython3",
   "version": "3.10.7"
  },
  "orig_nbformat": 4,
  "vscode": {
   "interpreter": {
    "hash": "aee8b7b246df8f9039afb4144a1f6fd8d2ca17a180786b69acc140d282b71a49"
   }
  }
 },
 "nbformat": 4,
 "nbformat_minor": 2
}
