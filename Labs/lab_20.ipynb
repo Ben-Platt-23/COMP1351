{
 "cells": [
  {
   "cell_type": "code",
   "execution_count": 16,
   "metadata": {},
   "outputs": [],
   "source": [
    "from random import *\n",
    "\n",
    "txt_file = open('usa.txt')\n",
    "global word_list\n",
    "word_list = []\n",
    "\n",
    "for line in txt_file.readlines():\n",
    "    for word in line.split():\n",
    "        word_list.append(word)\n",
    "\n",
    "def password_generator():\n",
    "    num_words = int(input('How many words do you want in your password?'))\n",
    "    words = []\n",
    "    word_string = ''\n",
    "\n",
    "    for i in range(num_words):\n",
    "        words.append(word_list[randint(0, 61000)])\n",
    "\n",
    "    for word in words:\n",
    "        word_string += word.capitalize()\n",
    "    \n",
    "    print(word_string)\n",
    "\n",
    "password_generator()"
   ]
  }
 ],
 "metadata": {
  "kernelspec": {
   "display_name": "Python 3.10.7 64-bit",
   "language": "python",
   "name": "python3"
  },
  "language_info": {
   "codemirror_mode": {
    "name": "ipython",
    "version": 3
   },
   "file_extension": ".py",
   "mimetype": "text/x-python",
   "name": "python",
   "nbconvert_exporter": "python",
   "pygments_lexer": "ipython3",
   "version": "3.10.7"
  },
  "orig_nbformat": 4,
  "vscode": {
   "interpreter": {
    "hash": "aee8b7b246df8f9039afb4144a1f6fd8d2ca17a180786b69acc140d282b71a49"
   }
  }
 },
 "nbformat": 4,
 "nbformat_minor": 2
}
