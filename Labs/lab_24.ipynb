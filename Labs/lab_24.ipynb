{
 "cells": [
  {
   "cell_type": "code",
   "execution_count": 3,
   "metadata": {},
   "outputs": [
    {
     "data": {
      "text/plain": [
       "[[3, 14, 67], [13, 24, 19]]"
      ]
     },
     "execution_count": 3,
     "metadata": {},
     "output_type": "execute_result"
    }
   ],
   "source": [
    "a_list = [\n",
    "    [3, 14, 67],\n",
    "    [13, 24, 19]\n",
    "]\n",
    "a_list"
   ]
  },
  {
   "cell_type": "code",
   "execution_count": 4,
   "metadata": {},
   "outputs": [
    {
     "name": "stdout",
     "output_type": "stream",
     "text": [
      "[[0, 0, 0, 0, 0, 0, 0, 0, 0, 0], [0, 0, 0, 0, 0, 0, 0, 0, 0, 0], [0, 0, 0, 0, 0, 0, 0, 0, 0, 0], [0, 0, 0, 0, 0, 0, 0, 0, 0, 0], [0, 0, 0, 0, 0, 0, 0, 0, 0, 0], [0, 0, 0, 0, 0, 0, 0, 0, 0, 0], [0, 0, 0, 0, 0, 0, 0, 0, 0, 0]]\n"
     ]
    }
   ],
   "source": [
    "def idk():\n",
    "    rows = int(input('How many rows?'))\n",
    "    columns = int(input('How many columns?'))\n",
    "    zeroes = []\n",
    "    for row in range(rows):\n",
    "        zeroes1 = []\n",
    "        for column in range(columns):\n",
    "            zeroes1.append(0)\n",
    "        zeroes.append(zeroes1)\n",
    "    print(zeroes)\n",
    "\n",
    "idk()"
   ]
  },
  {
   "cell_type": "code",
   "execution_count": 11,
   "metadata": {},
   "outputs": [
    {
     "name": "stdout",
     "output_type": "stream",
     "text": [
      "2564\n"
     ]
    }
   ],
   "source": [
    "from random import randint\n",
    "from random import seed\n",
    "seed(23)\n",
    "a_list = []\n",
    "for row in range(10):\n",
    "    a_list.append([])\n",
    "    for col in range(5):\n",
    "        a_list[row].append(randint(10, 90))\n",
    "\n",
    "sum_ = 0\n",
    "for x in range(len(a_list)):\n",
    "    for y in range(len(a_list[x])):\n",
    "        sum_ += a_list[x][y]\n",
    "print(sum_)\n",
    "\n",
    "\n",
    "\n"
   ]
  },
  {
   "cell_type": "code",
   "execution_count": null,
   "metadata": {},
   "outputs": [],
   "source": []
  }
 ],
 "metadata": {
  "kernelspec": {
   "display_name": "Python 3.10.7 64-bit",
   "language": "python",
   "name": "python3"
  },
  "language_info": {
   "codemirror_mode": {
    "name": "ipython",
    "version": 3
   },
   "file_extension": ".py",
   "mimetype": "text/x-python",
   "name": "python",
   "nbconvert_exporter": "python",
   "pygments_lexer": "ipython3",
   "version": "3.10.7"
  },
  "orig_nbformat": 4,
  "vscode": {
   "interpreter": {
    "hash": "aee8b7b246df8f9039afb4144a1f6fd8d2ca17a180786b69acc140d282b71a49"
   }
  }
 },
 "nbformat": 4,
 "nbformat_minor": 2
}
