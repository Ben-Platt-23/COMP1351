{
 "cells": [
  {
   "cell_type": "code",
   "execution_count": 1,
   "metadata": {},
   "outputs": [],
   "source": [
    "# telephony_code = {\n",
    "#     \"A\": \"Alfa\",\n",
    "#     \"B\": \"Bravo\",\n",
    "#     \"C\": \"Charlie\",\n",
    "#     \"D\": \"Delta\",\n",
    "#     \"E\": \"Echo\",\n",
    "#     \"F\": \"Foxtrot\",\n",
    "#     \"G\": \"Golf\",\n",
    "#     \"H\": \"Hotel\",\n",
    "#     \"I\": \"India\",\n",
    "#     \"J\": \"Juliett\",\n",
    "#     \"K\": \"Kilo\",\n",
    "#     \"L\": \"Lima\",\n",
    "#     \"M\": \"Mike\",\n",
    "#     \"N\": \"November\",\n",
    "#     \"O\": \"Oscar\",\n",
    "#     \"P\": \"Papa\",\n",
    "#     \"Q\": \"Quebec\",\n",
    "#     \"R\": \"Romeo\",\n",
    "#     \"S\": \"Sierra\",\n",
    "#     \"T\": \"Tango\",\n",
    "#     \"U\": \"Uniform\",\n",
    "#     \"V\": \"Victor\",\n",
    "#     \"W\": \"Whiskey\",\n",
    "#     \"X\": \"X-ray\",\n",
    "#     \"Y\": \"Yankee\",\n",
    "#     \"Z\": \"Zulu\",\n",
    "# }\n",
    "\n",
    "# def code_translator():\n",
    "#     user_str = str(input('Please enter your string: '))\n",
    "\n",
    "#     letter_list = list(user_str)\n",
    "#     for i in range(len(letter_list)):\n",
    "#         letter_list[i] = letter_list[i].upper()\n",
    "\n",
    "#     for letter in letter_list:\n",
    "#         for key, value in telephony_code.items():\n",
    "#             if letter == key:\n",
    "#                 print(value)"
   ]
  },
  {
   "cell_type": "code",
   "execution_count": 42,
   "metadata": {},
   "outputs": [],
   "source": []
  },
  {
   "cell_type": "code",
   "execution_count": 43,
   "metadata": {},
   "outputs": [
    {
     "name": "stdout",
     "output_type": "stream",
     "text": [
      "20\n"
     ]
    }
   ],
   "source": [
    "print(len(magic_8_responses))"
   ]
  },
  {
   "cell_type": "code",
   "execution_count": 37,
   "metadata": {},
   "outputs": [],
   "source": []
  },
  {
   "cell_type": "code",
   "execution_count": 46,
   "metadata": {},
   "outputs": [
    {
     "name": "stdout",
     "output_type": "stream",
     "text": [
      "Most likely.\n"
     ]
    }
   ],
   "source": [
    "from random import *\n",
    "\n",
    "magic_8_responses = [\n",
    "    \"It is certain.\",\n",
    "\"It is decidedly so.\",\n",
    "\"Without a doubt.\",\n",
    "\"Yes definitely.\",\n",
    "\"You may rely on it.\",\n",
    "\"As I see it, yes.\",\n",
    "\"Most likely.\",\n",
    "\"Outlook good.\",\n",
    "\"Yes.\",\n",
    "\"Signs point to yes.\",\n",
    "\"Reply hazy, try again.\",\n",
    "\"Ask again later.\",\n",
    "\"Better not tell you now.\",\n",
    "\"Cannot predict now.\",\n",
    "\"Concentrate and ask again.\",\n",
    "\"Don't count on it.\",\n",
    "\"My reply is no.\",\n",
    "\"My sources say no.\",\n",
    "\"Outlook not so good.\",\n",
    "\"Very doubtful.\"\n",
    "]\n",
    "\n",
    "def magic_8_ball():\n",
    "    user_question = str(input('Please enter your question: '))\n",
    "    \n",
    "    random_num = randint(0, len(magic_8_responses))\n",
    "\n",
    "    print(magic_8_responses[random_num])\n",
    "\n",
    "magic_8_ball()"
   ]
  },
  {
   "cell_type": "code",
   "execution_count": null,
   "metadata": {},
   "outputs": [],
   "source": []
  }
 ],
 "metadata": {
  "kernelspec": {
   "display_name": "Python 3.10.7 64-bit",
   "language": "python",
   "name": "python3"
  },
  "language_info": {
   "codemirror_mode": {
    "name": "ipython",
    "version": 3
   },
   "file_extension": ".py",
   "mimetype": "text/x-python",
   "name": "python",
   "nbconvert_exporter": "python",
   "pygments_lexer": "ipython3",
   "version": "3.10.7"
  },
  "orig_nbformat": 4,
  "vscode": {
   "interpreter": {
    "hash": "aee8b7b246df8f9039afb4144a1f6fd8d2ca17a180786b69acc140d282b71a49"
   }
  }
 },
 "nbformat": 4,
 "nbformat_minor": 2
}
