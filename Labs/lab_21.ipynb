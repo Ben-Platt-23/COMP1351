{
 "cells": [
  {
   "cell_type": "code",
   "execution_count": null,
   "metadata": {},
   "outputs": [],
   "source": [
    "Question 1\n",
    "\n",
    "month_number = {\n",
    "    \"january\":1,\n",
    "    \"february\":2,\n",
    "    \"march\":3,\n",
    "    \"april\":4,\n",
    "    \"may\":5,\n",
    "    \"june\":6,\n",
    "    \"july\":7,\n",
    "    \"august\":8,\n",
    "    \"september\":9,\n",
    "    \"october\":10,\n",
    "    \"november\":11,\n",
    "    \"december\":12\n",
    "}\n",
    "\n",
    "month_length = {\n",
    "    \"january\":31,\n",
    "    \"february\":28,\n",
    "    \"march\":31,\n",
    "    \"april\":30,\n",
    "    \"may\":31,\n",
    "    \"june\":30,\n",
    "    \"july\":31,\n",
    "    \"august\":31,\n",
    "    \"september\":30,\n",
    "    \"october\":31,\n",
    "    \"november\":30,\n",
    "    \"december\":31\n",
    "}"
   ]
  },
  {
   "cell_type": "code",
   "execution_count": 12,
   "metadata": {},
   "outputs": [],
   "source": [
    "def date_checker():\n",
    "    month = 'october'\n",
    "    day = 31\n",
    "    user_month = str(input('What month is it: '))\n",
    "    if user_month == 'october' or 'October':\n",
    "        user_day = input('What day is it: ')\n",
    "    else:\n",
    "        print('Invalid entry for current month, please try again.')\n",
    "        date_checker()\n",
    "        if user_day == 31 or '31':\n",
    "            print('The date is 10/31')\n",
    "        else:\n",
    "            print('Invalid entry for current day, please try agian.')\n",
    "            date_checker()"
   ]
  }
 ],
 "metadata": {
  "kernelspec": {
   "display_name": "Python 3.10.7 64-bit",
   "language": "python",
   "name": "python3"
  },
  "language_info": {
   "codemirror_mode": {
    "name": "ipython",
    "version": 3
   },
   "file_extension": ".py",
   "mimetype": "text/x-python",
   "name": "python",
   "nbconvert_exporter": "python",
   "pygments_lexer": "ipython3",
   "version": "3.10.7"
  },
  "orig_nbformat": 4,
  "vscode": {
   "interpreter": {
    "hash": "aee8b7b246df8f9039afb4144a1f6fd8d2ca17a180786b69acc140d282b71a49"
   }
  }
 },
 "nbformat": 4,
 "nbformat_minor": 2
}
