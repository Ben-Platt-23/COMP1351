{
 "cells": [
  {
   "cell_type": "code",
   "execution_count": null,
   "metadata": {},
   "outputs": [],
   "source": [
    "winners=[]\n",
    "try:\n",
    "   with open('oscar_lead_female.csv') as file:\n",
    "       for line in file:\n",
    "           winners.append(line.strip().split(\",\"))\n",
    "except FileNotFoundError:\n",
    "   print(\"Data file with Oscar winners not found\")\n",
    "   exit()"
   ]
  },
  {
   "cell_type": "code",
   "execution_count": null,
   "metadata": {},
   "outputs": [],
   "source": []
  },
  {
   "cell_type": "code",
   "execution_count": 26,
   "metadata": {},
   "outputs": [
    {
     "name": "stdout",
     "output_type": "stream",
     "text": [
      "40\n"
     ]
    }
   ],
   "source": [
    "actors_dict = {}\n",
    "\n",
    "\n",
    "for actor in winners:\n",
    "    if actor[2] in actors_dict:\n",
    "        actors_dict[actor[2]] += 1\n",
    "    else:\n",
    "        actors_dict[actor[2]] = 1\n",
    "#print(actors_dict)\n",
    "\n",
    "count = 0\n",
    "for wins in actors_dict.values():\n",
    "    if wins > 1:\n",
    "        count += 1\n",
    "#print(count)\n",
    "\n",
    "# for name, wins, in actors_dict.items():\n",
    "#     if wins > 1:\n",
    "#         print(name, wins)\n",
    "\n",
    "actors_year_age_dict = {}\n",
    "for actor in winners:\n",
    "    actors_year_age_dict[actor[0]] = actor[1]\n",
    "\n",
    "_1973_below = []\n",
    "for year, age in actors_year_age_dict.items():\n",
    "    if int(year) <= 1973:\n",
    "        _1973_below.append(age)\n",
    "    \n",
    "_1973_below = [int(age) for age in _1973_below]\n",
    "_sum_1973 = sum(_1973_below)\n",
    "_avg_1973 = _sum_1973 / (len(_1973_below))\n",
    "#print(int(_avg_1973))\n",
    "\n",
    "_1974_above = []\n",
    "for year, age in actors_year_age_dict.items():\n",
    "    if int(year) >= 1974:\n",
    "        _1974_above.append(age)\n",
    "\n",
    "_1974_above = [int(age) for age in _1974_above]\n",
    "_sum_1974 = sum(_1974_above)\n",
    "_avg_1974 = _sum_1974 / (len(_1974_above))\n",
    "print(int(_avg_1974))\n",
    "\n"
   ]
  },
  {
   "cell_type": "code",
   "execution_count": null,
   "metadata": {},
   "outputs": [],
   "source": []
  }
 ],
 "metadata": {
  "kernelspec": {
   "display_name": "Python 3.10.7 64-bit",
   "language": "python",
   "name": "python3"
  },
  "language_info": {
   "codemirror_mode": {
    "name": "ipython",
    "version": 3
   },
   "file_extension": ".py",
   "mimetype": "text/x-python",
   "name": "python",
   "nbconvert_exporter": "python",
   "pygments_lexer": "ipython3",
   "version": "3.10.7"
  },
  "orig_nbformat": 4,
  "vscode": {
   "interpreter": {
    "hash": "aee8b7b246df8f9039afb4144a1f6fd8d2ca17a180786b69acc140d282b71a49"
   }
  }
 },
 "nbformat": 4,
 "nbformat_minor": 2
}
