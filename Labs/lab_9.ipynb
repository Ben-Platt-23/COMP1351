{
 "cells": [
  {
   "cell_type": "code",
   "execution_count": null,
   "metadata": {},
   "outputs": [],
   "source": [
    "\"\"\" Circle moving diagonally and bouncing off of all walls\n",
    "    File Name: lab_9.ipynb\n",
    "    Author: Ben Platt\n",
    "    Date: 9/30/22\n",
    "    Course: COMP 1351\n",
    "    Assignment: Lab 9\n",
    "    Collaborators: Based on starting code given in lab\n",
    "    Internet Source: None\n",
    "\"\"\"\n",
    "from re import T\n",
    "import dudraw\n",
    "\n",
    "# open 500x500 pixel window\n",
    "dudraw.set_canvas_size(500, 500)\n",
    "radius = 0.1\n",
    "x_center = 2 * radius\n",
    "y_center = radius\n",
    "x_velocity = 0.01\n",
    "y_velocity = 0.01\n",
    "x = True\n",
    "while x == True:\n",
    "    # clear the previous frame\n",
    "    dudraw.clear(dudraw.LIGHT_GRAY)\n",
    "    # draw the next frame of the animation\n",
    "    dudraw.filled_circle(x_center, y_center, radius)\n",
    "    # display the image for 50 milliseceonds, which is 20 frames per second\n",
    "    dudraw.show(50)\n",
    "    # prepare for next frame by advancing the position of the circle\n",
    "    x_center = x_center + x_velocity\n",
    "    y_center = y_center + y_velocity\n",
    "    \n",
    "\n",
    "    if x_center + radius > 1:\n",
    "        x_velocity = -x_velocity\n",
    "        #print(1)\n",
    "        \n",
    "\n",
    "    if y_center + radius > 1:\n",
    "        y_velocity = -y_velocity\n",
    "        #print(2)\n",
    "    \n",
    "    #print(x_center)\n",
    "    #print(y_center)"
   ]
  },
  {
   "cell_type": "code",
   "execution_count": null,
   "metadata": {},
   "outputs": [],
   "source": []
  }
 ],
 "metadata": {
  "kernelspec": {
   "display_name": "Python 3.10.7 64-bit",
   "language": "python",
   "name": "python3"
  },
  "language_info": {
   "codemirror_mode": {
    "name": "ipython",
    "version": 3
   },
   "file_extension": ".py",
   "mimetype": "text/x-python",
   "name": "python",
   "nbconvert_exporter": "python",
   "pygments_lexer": "ipython3",
   "version": "3.10.7"
  },
  "orig_nbformat": 4,
  "vscode": {
   "interpreter": {
    "hash": "aee8b7b246df8f9039afb4144a1f6fd8d2ca17a180786b69acc140d282b71a49"
   }
  }
 },
 "nbformat": 4,
 "nbformat_minor": 2
}
