{
 "cells": [
  {
   "cell_type": "code",
   "execution_count": 1,
   "metadata": {},
   "outputs": [
    {
     "data": {
      "text/plain": [
       "'\\n    Description: Lab 5\\n    Filename: lab_5.py\\n    Author: Ben Platt\\n    Date: 9/21/22\\n    Course: COMP 1351\\n    Assignment: Lab 5\\n    Collaborators: None\\n    Internet Source: None\\n'"
      ]
     },
     "execution_count": 1,
     "metadata": {},
     "output_type": "execute_result"
    }
   ],
   "source": [
    "'''\n",
    "    Description: Lab 5\n",
    "    Filename: lab_5.py\n",
    "    Author: Ben Platt\n",
    "    Date: 9/21/22\n",
    "    Course: COMP 1351\n",
    "    Assignment: Lab 5\n",
    "    Collaborators: None\n",
    "    Internet Source: None\n",
    "'''"
   ]
  },
  {
   "cell_type": "code",
   "execution_count": 2,
   "metadata": {},
   "outputs": [],
   "source": [
    "import dudraw"
   ]
  },
  {
   "cell_type": "code",
   "execution_count": 3,
   "metadata": {},
   "outputs": [],
   "source": [
    "def lines_of_circles():\n",
    "    dudraw.set_canvas_size(500, 500)\n",
    "    dudraw.clear(dudraw.GREEN)\n",
    "    dudraw.set_pen_color(dudraw.BLUE)\n",
    "\n",
    "    \n",
    "    x_center = .1\n",
    "    y_center = .1\n",
    "    for i in range(5):\n",
    "        dudraw.filled_circle(x_center, y_center, .1)\n",
    "        x_center += .2\n",
    "    \n",
    "\n",
    "    x_center = .7\n",
    "    y_center = .1\n",
    "    for i in range(5):\n",
    "        dudraw.filled_circle(x_center, y_center, .1)\n",
    "        y_center += .2  \n",
    "    \n",
    "\n",
    "    dudraw.show(10000)"
   ]
  },
  {
   "cell_type": "code",
   "execution_count": 4,
   "metadata": {},
   "outputs": [],
   "source": [
    "lines_of_circles()"
   ]
  },
  {
   "cell_type": "code",
   "execution_count": null,
   "metadata": {},
   "outputs": [],
   "source": [
    "def weird_lines():\n",
    "    dudraw.set_canvas_size(500, 500)\n",
    "    dudraw.clear(dudraw.BLACK)\n",
    "    dudraw.set_pen_color(dudraw.YELLOW)\n",
    "\n",
    "    # First X point (constant)\n",
    "    x1 = .5\n",
    "    # First Y point (constant)\n",
    "    y1 = 1\n",
    "    # Second X point (varying)\n",
    "    x2 = 0\n",
    "    # Second Y point (constant)\n",
    "    y2 = 0\n",
    "\n",
    "    for i in range(11):\n",
    "        dudraw.line(x1, y1, x2, y2)\n",
    "        x2 += .1\n",
    "        \n",
    "    dudraw.show(10000)\n"
   ]
  },
  {
   "cell_type": "code",
   "execution_count": null,
   "metadata": {},
   "outputs": [],
   "source": [
    "weird_lines()"
   ]
  }
 ],
 "metadata": {
  "kernelspec": {
   "display_name": "Python 3.10.7 64-bit",
   "language": "python",
   "name": "python3"
  },
  "language_info": {
   "codemirror_mode": {
    "name": "ipython",
    "version": 3
   },
   "file_extension": ".py",
   "mimetype": "text/x-python",
   "name": "python",
   "nbconvert_exporter": "python",
   "pygments_lexer": "ipython3",
   "version": "3.10.7"
  },
  "orig_nbformat": 4,
  "vscode": {
   "interpreter": {
    "hash": "aee8b7b246df8f9039afb4144a1f6fd8d2ca17a180786b69acc140d282b71a49"
   }
  }
 },
 "nbformat": 4,
 "nbformat_minor": 2
}
