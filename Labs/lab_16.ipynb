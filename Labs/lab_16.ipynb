{
 "cells": [
  {
   "cell_type": "code",
   "execution_count": 18,
   "metadata": {},
   "outputs": [
    {
     "name": "stdout",
     "output_type": "stream",
     "text": [
      "['Samantha', 'Santiago', 'Savannah', 'Scarlett', 'Sebastian', 'Serenity', 'Shepherd', 'Stephanie', 'Sterling', 'Sullivan']\n"
     ]
    }
   ],
   "source": [
    "#1 \n",
    "\n",
    "popular_s_names = [\n",
    "    \"Sabrina\",\n",
    "    \"Sadie\",\n",
    "    \"Sage\",\n",
    "    \"Saige\",\n",
    "    \"Saint\",\n",
    "    \"Salem\",\n",
    "    \"Samantha\",\n",
    "    \"Samara\",\n",
    "    \"Samuel\",\n",
    "    \"Santiago\",\n",
    "    \"Santino\",\n",
    "    \"Sara\",\n",
    "    \"Sarah\",\n",
    "    \"Sarai\",\n",
    "    \"Sasha\",\n",
    "    \"Saul\",\n",
    "    \"Savannah\",\n",
    "    \"Sawyer\",\n",
    "    \"Saylor\",\n",
    "    \"Scarlet\",\n",
    "    \"Scarlett\",\n",
    "    \"Sean\",\n",
    "    \"Sebastian\",\n",
    "    \"Selah\",\n",
    "    \"Selena\",\n",
    "    \"Serena\",\n",
    "    \"Serenity\",\n",
    "    \"Sergio\",\n",
    "    \"Seth\",\n",
    "    \"Shane\",\n",
    "    \"Shawn\",\n",
    "    \"Shelby\",\n",
    "    \"Shepherd\",\n",
    "    \"Shiloh\",\n",
    "    \"Sienna\",\n",
    "    \"Sierra\",\n",
    "    \"Silas\",\n",
    "    \"Simon\",\n",
    "    \"Skye\",\n",
    "    \"Skylar\",\n",
    "    \"Skyler\",\n",
    "    \"Sloan\",\n",
    "    \"Sloane\",\n",
    "    \"Sofia\",\n",
    "    \"Solomon\",\n",
    "    \"Sonny\",\n",
    "    \"Sophia\",\n",
    "    \"Sophie\",\n",
    "    \"Soren\",\n",
    "    \"Spencer\",\n",
    "    \"Stella\",\n",
    "    \"Stephanie\",\n",
    "    \"Stephen\",\n",
    "    \"Sterling\",\n",
    "    \"Stetson\",\n",
    "    \"Steven\",\n",
    "    \"Stevie\",\n",
    "    \"Sullivan\",\n",
    "    \"Summer\",\n",
    "    \"Sutton\",\n",
    "    \"Sydney\",\n",
    "    \"Sylas\",\n",
    "    \"Sylvia\",\n",
    "    \"Sylvie\",\n",
    "]\n",
    "\n",
    "\n",
    "# count = 0\n",
    "# for name in popular_s_names:\n",
    "#     if len(name) < 5:\n",
    "#         print(name)\n",
    "#         count += 1\n",
    "# print(count)\n",
    "\n",
    "long_s_names = []\n",
    "for name in popular_s_names:\n",
    "    if len(name) >= 8:\n",
    "        long_s_names.append(name)\n",
    "\n",
    "\n",
    "print(long_s_names)"
   ]
  },
  {
   "cell_type": "code",
   "execution_count": 13,
   "metadata": {},
   "outputs": [
    {
     "data": {
      "text/plain": [
       "False"
      ]
     },
     "execution_count": 13,
     "metadata": {},
     "output_type": "execute_result"
    }
   ],
   "source": [
    "#2\n",
    "\n",
    "def has_zeroes(int_list:list):\n",
    "    for int in int_list:\n",
    "        if int == 0:\n",
    "            return True\n",
    "        else:\n",
    "            return False\n",
    "has_zeroes([1,2,3])"
   ]
  },
  {
   "cell_type": "code",
   "execution_count": 14,
   "metadata": {},
   "outputs": [
    {
     "data": {
      "text/plain": [
       "(-3, 3)"
      ]
     },
     "execution_count": 14,
     "metadata": {},
     "output_type": "execute_result"
    }
   ],
   "source": [
    "#3\n",
    "\n",
    "def positive_negative_tuple(number_list:list)->tuple:\n",
    "    for i in range(len(number_list)):\n",
    "        pair = number_list[i]\n",
    "        if pair[0] == -pair[1]:\n",
    "            return pair\n",
    "    return None\n",
    "\n",
    "positive_negative_tuple([(3, 4), (5, 1), (-3, 3), (7, 8)])\n"
   ]
  },
  {
   "cell_type": "code",
   "execution_count": 9,
   "metadata": {},
   "outputs": [
    {
     "name": "stdout",
     "output_type": "stream",
     "text": [
      "All tests passed!\n"
     ]
    }
   ],
   "source": [
    "#4\n",
    "\n",
    "from operator import truediv\n",
    "\n",
    "\n",
    "def positive(number:int)->bool:\n",
    "    if number>0:\n",
    "        return True\n",
    "    else:\n",
    "        return False\n",
    "\n",
    "def change_of_sign(numbers:list)->bool:\n",
    "    for i in range(len(numbers)-1):\n",
    "        if positive(numbers[i])==positive(numbers[i+1]):\n",
    "            return False\n",
    "    return True\n",
    "\n",
    "\n",
    "\n",
    "assert change_of_sign([5, -1, 9, -4, 1, -2, 8]) == True, \"Error: there is change of sign\"\n",
    "assert change_of_sign([-5, -1, -9, -4, -1, -2, -8]) == False, \"Error: there is change of sign\"\n",
    "assert change_of_sign([5, 1, 9, 4, 1, 2, 8]) == False, \"Error: there is change of sign\"\n",
    "print(\"All tests passed!\")"
   ]
  }
 ],
 "metadata": {
  "kernelspec": {
   "display_name": "Python 3.10.7 64-bit",
   "language": "python",
   "name": "python3"
  },
  "language_info": {
   "codemirror_mode": {
    "name": "ipython",
    "version": 3
   },
   "file_extension": ".py",
   "mimetype": "text/x-python",
   "name": "python",
   "nbconvert_exporter": "python",
   "pygments_lexer": "ipython3",
   "version": "3.10.7"
  },
  "orig_nbformat": 4,
  "vscode": {
   "interpreter": {
    "hash": "aee8b7b246df8f9039afb4144a1f6fd8d2ca17a180786b69acc140d282b71a49"
   }
  }
 },
 "nbformat": 4,
 "nbformat_minor": 2
}
