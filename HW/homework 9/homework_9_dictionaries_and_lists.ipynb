{
 "cells": [
  {
   "cell_type": "code",
   "execution_count": null,
   "metadata": {},
   "outputs": [],
   "source": [
    "keys = ['zero','one','two','three','four','five','six','seven','eight','nine']\n",
    "values = [0,1,2,3,4,5,6,7,8,9]"
   ]
  },
  {
   "cell_type": "code",
   "execution_count": null,
   "metadata": {},
   "outputs": [],
   "source": [
    "key_value = {}\n",
    "for key in keys:\n",
    "    for value in values:\n",
    "        key_value[key] = value\n",
    "key_value"
   ]
  },
  {
   "cell_type": "code",
   "execution_count": null,
   "metadata": {},
   "outputs": [],
   "source": [
    "cities = {'Argentina':'Buenos Aires',\n",
    "          'Bolivia':'Sucre',\n",
    "          'Brazil':'Brasilia',\n",
    "          'Chile':'Santiago',\n",
    "          'Colombia':'Bogota',\n",
    "          'Ecuador':'Quito',\n",
    "          'Guyana':'Georgetown',\n",
    "          'Paraguay':'Asuncion',\n",
    "          'Peru':'Lima',\n",
    "          'Suriname':'Paramaribo',\n",
    "          'Uruguay':'Montevideo',\n",
    "          'Venezuela':'Caracas'}\n",
    "\n",
    "populations = {'Buenos Aires':3072000,\n",
    "               'Sucre':280000,\n",
    "               'Brasilia':2988000,\n",
    "               'Santiago':5220000,\n",
    "               'Bogota':7871000,\n",
    "               'Quito':2011000,\n",
    "               'Georgetown':125000,\n",
    "               'Asuncion':521000,\n",
    "               'Lima':10004000,\n",
    "               'Paramaribo':241000,\n",
    "               'Montevideo':1369000,\n",
    "               'Caracas':2088000}"
   ]
  },
  {
   "cell_type": "code",
   "execution_count": null,
   "metadata": {},
   "outputs": [],
   "source": [
    "main_table = {}\n",
    "\n",
    "for x, y in cities.items():\n",
    "    for z in populations.values():\n",
    "        main_table[str(x + ', ' + y)] = z\n",
    "    "
   ]
  },
  {
   "cell_type": "code",
   "execution_count": null,
   "metadata": {},
   "outputs": [],
   "source": [
    "main_table"
   ]
  },
  {
   "cell_type": "code",
   "execution_count": 2,
   "metadata": {},
   "outputs": [
    {
     "name": "stdout",
     "output_type": "stream",
     "text": [
      "symbol is Li and atomic number is 3\n"
     ]
    }
   ],
   "source": [
    "metals = open('list_of_metals.txt')\n",
    "metal = metals.readlines()\n",
    "content = [x.strip() for x in metal]\n",
    "metal_dict = {}\n",
    "\n",
    "for x in range(len(content)):\n",
    "    split1, split2 = content[x].split(\":\")\n",
    "    metal_dict[split1] = [split2]\n",
    "\n",
    "for x, y in metal_dict.items():\n",
    "    metal_dict[x] = y[0]\n",
    "\n",
    "for x, y in metal_dict.items():\n",
    "    metal_dict[x] = y.strip(\" \")\n",
    "\n",
    "def metal_lookup():\n",
    "    metal = ''\n",
    "    while metal != 'quit':\n",
    "        metal = str(input('Enter a metal (case sensitive): \\n(Type quit if you are done)'))\n",
    "        if metal == 'quit':\n",
    "            break\n",
    "\n",
    "        if metal in metal_dict.keys():\n",
    "            print(metal_dict[metal])\n",
    "\n",
    "metal_lookup()"
   ]
  },
  {
   "cell_type": "code",
   "execution_count": null,
   "metadata": {},
   "outputs": [],
   "source": []
  }
 ],
 "metadata": {
  "kernelspec": {
   "display_name": "Python 3.10.7 64-bit",
   "language": "python",
   "name": "python3"
  },
  "language_info": {
   "codemirror_mode": {
    "name": "ipython",
    "version": 3
   },
   "file_extension": ".py",
   "mimetype": "text/x-python",
   "name": "python",
   "nbconvert_exporter": "python",
   "pygments_lexer": "ipython3",
   "version": "3.10.7"
  },
  "orig_nbformat": 4,
  "vscode": {
   "interpreter": {
    "hash": "aee8b7b246df8f9039afb4144a1f6fd8d2ca17a180786b69acc140d282b71a49"
   }
  }
 },
 "nbformat": 4,
 "nbformat_minor": 2
}
