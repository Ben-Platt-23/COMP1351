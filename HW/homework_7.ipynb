{
 "cells": [
  {
   "cell_type": "code",
   "execution_count": null,
   "metadata": {},
   "outputs": [],
   "source": [
    "# # define the function all_divisible_by_3_or_5 after this line\n",
    "# def all_divisible_by_3_or_5(int_list:list)->bool:\n",
    "#     for i in range(len(int_list)):\n",
    "#         if int_list[i] / 3 or int_list[i] / 5:\n",
    "#             continue\n",
    "#         else:\n",
    "#             return False\n",
    "#     return True\n",
    "        \n",
    "# # end of definition of the function all_divisible_by_3_or_5\n",
    "\n",
    "\n",
    "# list_of_numbers = []\n",
    "# count = 10\n",
    "# for i in range(count):\n",
    "#     number = int( input('Please input the next number: '))\n",
    "#     list_of_numbers.append( number )\n",
    "\n",
    "# print( 'The list is: ', list_of_numbers )\n",
    "\n",
    "# result = all_divisible_by_3_or_5( list_of_numbers )\n",
    "# if (result == True):\n",
    "#     print('Your numbers are all divisible by 3 or 5!')\n",
    "# else:\n",
    "#     print('Your numbers are not all divisible by 3 or 5.')"
   ]
  },
  {
   "cell_type": "code",
   "execution_count": 2,
   "metadata": {},
   "outputs": [],
   "source": [
    "def average_of_positive_values(flt_list:list):\n",
    "    avg_list = []\n",
    "    for i in range(len(flt_list)):\n",
    "        if flt_list[i] > 0.0:\n",
    "            avg_list.append(flt_list[i])\n",
    "    \n",
    "    return (sum(avg_list)) / len(avg_list)\n"
   ]
  },
  {
   "cell_type": "code",
   "execution_count": 5,
   "metadata": {},
   "outputs": [
    {
     "data": {
      "text/plain": [
       "3.0"
      ]
     },
     "execution_count": 5,
     "metadata": {},
     "output_type": "execute_result"
    }
   ],
   "source": [
    "average_of_positive_values([-1,2,-3,4])"
   ]
  },
  {
   "cell_type": "code",
   "execution_count": null,
   "metadata": {},
   "outputs": [],
   "source": []
  }
 ],
 "metadata": {
  "kernelspec": {
   "display_name": "Python 3.10.7 64-bit",
   "language": "python",
   "name": "python3"
  },
  "language_info": {
   "codemirror_mode": {
    "name": "ipython",
    "version": 3
   },
   "file_extension": ".py",
   "mimetype": "text/x-python",
   "name": "python",
   "nbconvert_exporter": "python",
   "pygments_lexer": "ipython3",
   "version": "3.10.7"
  },
  "orig_nbformat": 4,
  "vscode": {
   "interpreter": {
    "hash": "aee8b7b246df8f9039afb4144a1f6fd8d2ca17a180786b69acc140d282b71a49"
   }
  }
 },
 "nbformat": 4,
 "nbformat_minor": 2
}
