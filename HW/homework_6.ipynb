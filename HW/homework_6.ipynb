{
 "cells": [
  {
   "cell_type": "code",
   "execution_count": 1,
   "metadata": {},
   "outputs": [],
   "source": [
    "# for i in range(0, 100):\n",
    "#     if i > 0:\n",
    "#         print(str(i) + \"     \" + str(i**2) + \"     \" + str(i**3) + \"     \"  + str((i**3)/(i**2)) + \"    \" + str((i**3)%(i**2)))\n",
    "#     else:\n",
    "#         print(str(i) + \"     \" + str(i**2) + \"     \" + str(i**3))"
   ]
  },
  {
   "cell_type": "code",
   "execution_count": 2,
   "metadata": {},
   "outputs": [],
   "source": [
    "# while True:\n",
    "#     number  = int(input('Please enter a postive integer: '))\n",
    "#     squares = 0\n",
    "#     for i in range(1, number+1):\n",
    "#         squares += i ** 2\n",
    "#     print(squares)\n",
    "#     break"
   ]
  },
  {
   "cell_type": "code",
   "execution_count": 3,
   "metadata": {},
   "outputs": [],
   "source": [
    "from random import *\n",
    "import dudraw"
   ]
  },
  {
   "cell_type": "code",
   "execution_count": 4,
   "metadata": {},
   "outputs": [],
   "source": [
    "x_list = []\n",
    "for i in range(50):\n",
    "    x_list.append(randint(0, 500))\n",
    "\n",
    "y_list = []\n",
    "for i in range(50):\n",
    "    y_list.append(randint(0, 500))"
   ]
  },
  {
   "cell_type": "code",
   "execution_count": 5,
   "metadata": {},
   "outputs": [
    {
     "ename": "IndexError",
     "evalue": "list index out of range",
     "output_type": "error",
     "traceback": [
      "\u001b[0;31m---------------------------------------------------------------------------\u001b[0m",
      "\u001b[0;31mIndexError\u001b[0m                                Traceback (most recent call last)",
      "Cell \u001b[0;32mIn [5], line 10\u001b[0m\n\u001b[1;32m      8\u001b[0m dudraw\u001b[38;5;241m.\u001b[39mset_pen_color(dudraw\u001b[38;5;241m.\u001b[39mBLACK)\n\u001b[1;32m      9\u001b[0m dudraw\u001b[38;5;241m.\u001b[39mset_pen_width(\u001b[38;5;241m1\u001b[39m)\n\u001b[0;32m---> 10\u001b[0m dudraw\u001b[38;5;241m.\u001b[39mline(x_list[i], y_list[i], \u001b[43mx_list\u001b[49m\u001b[43m[\u001b[49m\u001b[43mi\u001b[49m\u001b[38;5;241;43m+\u001b[39;49m\u001b[38;5;241;43m1\u001b[39;49m\u001b[43m]\u001b[49m, y_list[i\u001b[38;5;241m+\u001b[39m\u001b[38;5;241m1\u001b[39m])\n\u001b[1;32m     11\u001b[0m dudraw\u001b[38;5;241m.\u001b[39mshow()\n",
      "\u001b[0;31mIndexError\u001b[0m: list index out of range"
     ]
    }
   ],
   "source": [
    "dudraw.set_canvas_size(500, 500)\n",
    "dudraw.set_x_scale(0, 500)\n",
    "dudraw.set_y_scale(0, 500)\n",
    "dudraw.clear(dudraw.WHITE)\n",
    "\n",
    "\n",
    "for i in range(50):\n",
    "    dudraw.set_pen_color(dudraw.BLACK)\n",
    "    dudraw.set_pen_width(1)\n",
    "    dudraw.line(x_list[i], y_list[i], x_list[i+1], y_list[i+1])\n",
    "    dudraw.show()\n"
   ]
  },
  {
   "cell_type": "code",
   "execution_count": null,
   "metadata": {},
   "outputs": [],
   "source": []
  }
 ],
 "metadata": {
  "kernelspec": {
   "display_name": "Python 3.10.7 64-bit",
   "language": "python",
   "name": "python3"
  },
  "language_info": {
   "codemirror_mode": {
    "name": "ipython",
    "version": 3
   },
   "file_extension": ".py",
   "mimetype": "text/x-python",
   "name": "python",
   "nbconvert_exporter": "python",
   "pygments_lexer": "ipython3",
   "version": "3.10.7"
  },
  "orig_nbformat": 4,
  "vscode": {
   "interpreter": {
    "hash": "aee8b7b246df8f9039afb4144a1f6fd8d2ca17a180786b69acc140d282b71a49"
   }
  }
 },
 "nbformat": 4,
 "nbformat_minor": 2
}
