{
 "cells": [
  {
   "cell_type": "code",
   "execution_count": 1,
   "metadata": {},
   "outputs": [],
   "source": [
    "def is_valid_month(string:str):\n",
    "    months = [\n",
    "        'january',\n",
    "        'february',\n",
    "        'march',\n",
    "        'april',\n",
    "        'may',\n",
    "        'june',\n",
    "        'july',\n",
    "        'august',\n",
    "        'september',\n",
    "        'october',\n",
    "        'november',\n",
    "        'december'\n",
    "    ]\n",
    "\n",
    "    string = string.lower()\n",
    "\n",
    "\n",
    "    if string in months:\n",
    "        return True\n",
    "    else:\n",
    "        return False"
   ]
  },
  {
   "cell_type": "code",
   "execution_count": 5,
   "metadata": {},
   "outputs": [],
   "source": [
    "def vowels():\n",
    "    sentence = str(input('Please enter a sentence: '))\n",
    "    counter = 0 \n",
    "\n",
    "    for letter in sentence:\n",
    "        if letter in ['a', 'e', 'i', 'o', 'u']:\n",
    "            counter += 1\n",
    "    \n",
    "    print('Your sentence has ' + str(counter) + ' vowels!')\n"
   ]
  },
  {
   "cell_type": "code",
   "execution_count": 7,
   "metadata": {},
   "outputs": [],
   "source": [
    "def leap_year():\n",
    "    print('Must enter a year after 1582 and cannot be negative!')\n",
    "    year = int(input('Please enter a year: '))\n",
    "    \n",
    "    if year == 1582:\n",
    "        print('Invalid entry, must be after 1582!')\n",
    "        leap_year()\n",
    "\n",
    "    def is_leap_year():\n",
    "        if year % 4 == 0:\n",
    "            return True\n",
    "        else:\n",
    "            return False\n",
    "        "
   ]
  },
  {
   "cell_type": "code",
   "execution_count": null,
   "metadata": {},
   "outputs": [],
   "source": []
  }
 ],
 "metadata": {
  "kernelspec": {
   "display_name": "Python 3.10.7 64-bit",
   "language": "python",
   "name": "python3"
  },
  "language_info": {
   "codemirror_mode": {
    "name": "ipython",
    "version": 3
   },
   "file_extension": ".py",
   "mimetype": "text/x-python",
   "name": "python",
   "nbconvert_exporter": "python",
   "pygments_lexer": "ipython3",
   "version": "3.10.7"
  },
  "orig_nbformat": 4,
  "vscode": {
   "interpreter": {
    "hash": "aee8b7b246df8f9039afb4144a1f6fd8d2ca17a180786b69acc140d282b71a49"
   }
  }
 },
 "nbformat": 4,
 "nbformat_minor": 2
}
