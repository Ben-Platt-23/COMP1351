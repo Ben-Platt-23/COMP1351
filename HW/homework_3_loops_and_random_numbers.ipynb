{
 "cells": [
  {
   "cell_type": "code",
   "execution_count": 1,
   "metadata": {},
   "outputs": [],
   "source": [
    "import dudraw\n",
    "import random"
   ]
  },
  {
   "cell_type": "code",
   "execution_count": 2,
   "metadata": {},
   "outputs": [
    {
     "ename": "SystemExit",
     "evalue": "",
     "output_type": "error",
     "traceback": [
      "An exception has occurred, use %tb to see the full traceback.\n",
      "\u001b[0;31mSystemExit\u001b[0m\n"
     ]
    },
    {
     "name": "stderr",
     "output_type": "stream",
     "text": [
      "/Library/Frameworks/Python.framework/Versions/3.10/lib/python3.10/site-packages/IPython/core/interactiveshell.py:3386: UserWarning: To exit: use 'exit', 'quit', or Ctrl-D.\n",
      "  warn(\"To exit: use 'exit', 'quit', or Ctrl-D.\", stacklevel=1)\n"
     ]
    }
   ],
   "source": [
    "# dudraw.set_canvas_size(500, 500)\n",
    "# dudraw.set_x_scale(0, 500)\n",
    "# dudraw.set_y_scale(0, 500)\n",
    "# dudraw.clear(dudraw.LIGHT_GRAY)\n",
    "\n",
    "# dudraw.set_pen_color_rgb(225, 0, 0)\n",
    "# dudraw.filled_square(25, 475, 20)\n",
    "# dudraw.filled_square(75, 425, 20)\n",
    "# dudraw.filled_square(125, 375, 20)\n",
    "# dudraw.filled_square(175, 325, 20)\n",
    "# dudraw.filled_square(225, 275, 20)\n",
    "# dudraw.filled_square(275, 225, 20)\n",
    "# dudraw.filled_square(325, 175, 20)\n",
    "# dudraw.filled_square(375, 125, 20)\n",
    "# dudraw.filled_square(425, 75, 20)\n",
    "# dudraw.filled_square(475, 25, 20)\n",
    "\n",
    "\n",
    "# dudraw.set_pen_color_rgb(255, 255, 255)\n",
    "# dudraw.filled_ellipse(15, 455, 4, 4)\n",
    "# dudraw.filled_ellipse(35, 455, 4, 4)\n",
    "\n",
    "# dudraw.filled_ellipse(65, 405, 4, 4)\n",
    "# dudraw.filled_ellipse(85, 405, 4, 4)\n",
    "\n",
    "# dudraw.filled_ellipse(115, 355, 4, 4)\n",
    "# dudraw.filled_ellipse(135, 355, 4, 4)\n",
    "\n",
    "# dudraw.filled_ellipse(165, 305, 4, 4)\n",
    "# dudraw.filled_ellipse(185, 305, 4, 4)\n",
    "\n",
    "# dudraw.filled_ellipse(215, 255, 4, 4)\n",
    "# dudraw.filled_ellipse(235, 255, 4, 4)\n",
    "\n",
    "# dudraw.filled_ellipse(265, 205, 4, 4)\n",
    "# dudraw.filled_ellipse(285, 205, 4, 4)\n",
    "\n",
    "# dudraw.filled_ellipse(315, 155, 4, 4)\n",
    "# dudraw.filled_ellipse(335, 155, 4, 4)\n",
    "\n",
    "# dudraw.filled_ellipse(365, 105, 4, 4)\n",
    "# dudraw.filled_ellipse(385, 105, 4, 4)\n",
    "\n",
    "# dudraw.filled_ellipse(415, 55, 4, 4)\n",
    "# dudraw.filled_ellipse(435, 55, 4, 4)\n",
    "\n",
    "# dudraw.filled_ellipse(465, 5, 4, 4)\n",
    "# dudraw.filled_ellipse(485, 5, 4, 4)\n",
    "\n",
    "\n",
    "# dudraw.show(float('inf'))"
   ]
  },
  {
   "cell_type": "code",
   "execution_count": 2,
   "metadata": {},
   "outputs": [],
   "source": [
    "# def circles():\n",
    "#     dudraw.set_canvas_size(500, 500)\n",
    "#     dudraw.clear(dudraw.WHITE)\n",
    "#     dudraw.set_x_scale(0, 500)\n",
    "#     dudraw.set_y_scale(0, 500)\n",
    "\n",
    "\n",
    "#     for i in range(1000):\n",
    "#         dudraw.set_pen_color_rgb(random.randint(0, 255), random.randint(0, 255), random.randint(0, 255))\n",
    "#         dudraw.filled_circle(random.uniform(0, 500), random.uniform(0, 500), 25)\n",
    "\n",
    "#     dudraw.show(float('inf'))\n",
    "\n",
    "# circles()"
   ]
  },
  {
   "cell_type": "code",
   "execution_count": 1,
   "metadata": {},
   "outputs": [
    {
     "name": "stdout",
     "output_type": "stream",
     "text": [
      "10 x 0 = 0\n",
      "10 x 1 = 10\n",
      "10 x 2 = 20\n",
      "10 x 3 = 30\n",
      "10 x 4 = 40\n",
      "10 x 5 = 50\n",
      "10 x 6 = 60\n",
      "10 x 7 = 70\n",
      "10 x 8 = 80\n",
      "10 x 9 = 90\n",
      "10 x 10 = 100\n"
     ]
    }
   ],
   "source": [
    "def mult_table(number:int):\n",
    "    mult = 0\n",
    "    for i in range(11):\n",
    "        print(str(number) + ' x ' + str(mult) + ' = ' + str(number * mult))\n",
    "        mult += 1\n",
    "mult_table(10)"
   ]
  }
 ],
 "metadata": {
  "kernelspec": {
   "display_name": "Python 3.10.7 64-bit",
   "language": "python",
   "name": "python3"
  },
  "language_info": {
   "codemirror_mode": {
    "name": "ipython",
    "version": 3
   },
   "file_extension": ".py",
   "mimetype": "text/x-python",
   "name": "python",
   "nbconvert_exporter": "python",
   "pygments_lexer": "ipython3",
   "version": "3.10.7"
  },
  "orig_nbformat": 4,
  "vscode": {
   "interpreter": {
    "hash": "aee8b7b246df8f9039afb4144a1f6fd8d2ca17a180786b69acc140d282b71a49"
   }
  }
 },
 "nbformat": 4,
 "nbformat_minor": 2
}
