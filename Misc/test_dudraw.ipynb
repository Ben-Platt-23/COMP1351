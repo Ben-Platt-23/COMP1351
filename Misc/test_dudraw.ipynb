{
 "cells": [
  {
   "cell_type": "code",
   "execution_count": 1,
   "metadata": {},
   "outputs": [],
   "source": [
    "import dudraw"
   ]
  },
  {
   "cell_type": "code",
   "execution_count": 2,
   "metadata": {},
   "outputs": [],
   "source": [
    "# dudraw.set_canvas_size(400, 400)\n",
    "# dudraw.clear(dudraw.DARK_BLUE)\n",
    "\n",
    "# dudraw.set_pen_color(dudraw.RED)\n",
    "# dudraw.filled_rectangle(0.5, 0.2, 0.4, 0.2)\n",
    "\n",
    "# dudraw.set_pen_color(dudraw.DARK_GREEN)\n",
    "# dudraw.filled_quadrilateral(0, 0.4, 0.1, 0.6, 0.9, 0.6, 1, 0.4)\n",
    "\n",
    "# dudraw.set_pen_color(dudraw.WHITE)\n",
    "# dudraw.filled_circle(0.8, 0.8, 0.05)\n",
    "\n",
    "# dudraw.set_pen_color(dudraw.YELLOW)\n",
    "# dudraw.filled_rectangle(0.7, 0.1, 0.05, 0.1)"
   ]
  },
  {
   "cell_type": "code",
   "execution_count": null,
   "metadata": {},
   "outputs": [],
   "source": [
    "import dudraw\n",
    "dudraw.clear(dudraw.GRAY)\n",
    "dudraw.line(1/3,0,2/3,1)\n",
    "dudraw.line(2/3,0, 1/3, 1)\n",
    "dudraw.show(100000)"
   ]
  },
  {
   "cell_type": "code",
   "execution_count": 3,
   "metadata": {},
   "outputs": [],
   "source": [
    "dudraw.show(2000)"
   ]
  }
 ],
 "metadata": {
  "kernelspec": {
   "display_name": "Python 3.10.7 64-bit",
   "language": "python",
   "name": "python3"
  },
  "language_info": {
   "codemirror_mode": {
    "name": "ipython",
    "version": 3
   },
   "file_extension": ".py",
   "mimetype": "text/x-python",
   "name": "python",
   "nbconvert_exporter": "python",
   "pygments_lexer": "ipython3",
   "version": "3.10.7"
  },
  "orig_nbformat": 4,
  "vscode": {
   "interpreter": {
    "hash": "aee8b7b246df8f9039afb4144a1f6fd8d2ca17a180786b69acc140d282b71a49"
   }
  }
 },
 "nbformat": 4,
 "nbformat_minor": 2
}
