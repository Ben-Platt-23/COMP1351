{
 "cells": [
  {
   "cell_type": "code",
   "execution_count": 8,
   "metadata": {},
   "outputs": [],
   "source": [
    "def weeks_and_days():\n",
    "    weeks = int(input('How many weeks?'))\n",
    "    extra_days = int(input('How many extra days?'))\n",
    "\n",
    "    total_days = (weeks * 7) + extra_days\n",
    "\n",
    "    print(str(weeks) + ' weeks and ' + str(extra_days) + ' days is ' + str(total_days) + ' days.')\n",
    "\n",
    "weeks_and_days()"
   ]
  },
  {
   "cell_type": "code",
   "execution_count": null,
   "metadata": {},
   "outputs": [],
   "source": [
    "# extra_days = input('How many extra days?')\n",
    "# weeks = 8\n",
    "# total_days = (weeks * 7) + extra_days"
   ]
  },
  {
   "cell_type": "code",
   "execution_count": 10,
   "metadata": {},
   "outputs": [
    {
     "name": "stdout",
     "output_type": "stream",
     "text": [
      "Not divisible by 2\n",
      "Divisible by 3\n",
      "6\n"
     ]
    }
   ],
   "source": [
    "num = 5\n",
    "if num%2==0:\n",
    "     print(\"Divisible by 2\")\n",
    "     num += 2\n",
    "else:\n",
    "     print(\"Not divisible by 2\")\n",
    "     num += 1\n",
    "if num%3==0:\n",
    "     print(\"Divisible by 3\")\n",
    "else:\n",
    "     print(\"Not divisible by 3\")\n",
    "print(num)\n"
   ]
  },
  {
   "cell_type": "code",
   "execution_count": 13,
   "metadata": {},
   "outputs": [
    {
     "name": "stdout",
     "output_type": "stream",
     "text": [
      "58 days is 8 weeks and 2 days.\n"
     ]
    }
   ],
   "source": [
    "# How many days\n",
    "\n",
    "def how_many_days():\n",
    "    days = int(input('How many days?'))\n",
    "\n",
    "    weeks = (days // 7)\n",
    "    extra_days = (days % 7)\n",
    "\n",
    "    print(str(days) + ' days is ' + str(weeks) + ' weeks and ' + str(extra_days) + ' days.')\n",
    "\n",
    "how_many_days()"
   ]
  },
  {
   "cell_type": "code",
   "execution_count": 2,
   "metadata": {},
   "outputs": [
    {
     "name": "stdout",
     "output_type": "stream",
     "text": [
      "even\n",
      "1\n",
      "even\n",
      "2\n",
      "even\n",
      "3\n",
      "even\n",
      "4\n",
      "even\n",
      "5\n",
      "even\n",
      "6\n",
      "even\n",
      "7\n",
      "even\n",
      "8\n"
     ]
    }
   ],
   "source": [
    "count = 0\n",
    "for i in range(3, 20):\n",
    "    if i % 2 == 0:\n",
    "        print('even')\n",
    "        count+=1\n",
    "        print(count)"
   ]
  },
  {
   "cell_type": "code",
   "execution_count": null,
   "metadata": {},
   "outputs": [],
   "source": []
  }
 ],
 "metadata": {
  "kernelspec": {
   "display_name": "Python 3.10.7 64-bit",
   "language": "python",
   "name": "python3"
  },
  "language_info": {
   "codemirror_mode": {
    "name": "ipython",
    "version": 3
   },
   "file_extension": ".py",
   "mimetype": "text/x-python",
   "name": "python",
   "nbconvert_exporter": "python",
   "pygments_lexer": "ipython3",
   "version": "3.10.7"
  },
  "orig_nbformat": 4,
  "vscode": {
   "interpreter": {
    "hash": "aee8b7b246df8f9039afb4144a1f6fd8d2ca17a180786b69acc140d282b71a49"
   }
  }
 },
 "nbformat": 4,
 "nbformat_minor": 2
}
