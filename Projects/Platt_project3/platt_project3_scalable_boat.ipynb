{
 "cells": [
  {
   "cell_type": "code",
   "execution_count": 1,
   "metadata": {},
   "outputs": [
    {
     "data": {
      "text/plain": [
       "' \\n    File Name: platt_project3_scalable_boat.py\\n    Author: Ben Platt\\n    Date: 09/30/22\\n    Course: COMP 1351\\n    Assignment: Project 3\\n    Collaborators: None\\n    Internet Source: None\\n'"
      ]
     },
     "execution_count": 1,
     "metadata": {},
     "output_type": "execute_result"
    }
   ],
   "source": [
    "\"\"\" \n",
    "    File Name: platt_project3_scalable_boat.py\n",
    "    Author: Ben Platt\n",
    "    Date: 09/30/22\n",
    "    Course: COMP 1351\n",
    "    Assignment: Project 3\n",
    "    Collaborators: None\n",
    "    Internet Source: None\n",
    "\"\"\""
   ]
  },
  {
   "cell_type": "code",
   "execution_count": 2,
   "metadata": {},
   "outputs": [],
   "source": [
    "import dudraw"
   ]
  },
  {
   "cell_type": "code",
   "execution_count": 3,
   "metadata": {},
   "outputs": [],
   "source": [
    "# Defining my function 'my_drawing' which will run the script to create my image/drawing\n",
    "from types import DynamicClassAttribute\n",
    "\n",
    "\n",
    "def my_drawing(x:float, y:float, w:float, h:float):\n",
    "    \"\"\"\n",
    "    Draws a little boat on the water with the sun in the sky\n",
    "\n",
    "    :param float x: x position of the lower left corner of the wagon\n",
    "    :param float y: y position of the lower left corner of the wagon\n",
    "    :param w: width of the wagon\n",
    "    :param h: height of the wagon\n",
    "    \"\"\"\n",
    "    \n",
    "    if w > 1:\n",
    "        w = w / 500\n",
    "    if h > 1:\n",
    "        h = h / 500\n",
    "\n",
    "\n",
    "    # Drawing the water\n",
    "    # Setting pen color to light blue\n",
    "    dudraw.set_pen_color(dudraw.BOOK_LIGHT_BLUE)\n",
    "    # Setting pen width to 2\n",
    "    dudraw.set_pen_width(2)\n",
    "    # Drawing a large blue rectangle to act as water\n",
    "    dudraw.filled_rectangle(x + 250 * w, y + 0 * h, 250 * w, 100 * h)\n",
    "\n",
    "    # Drawing the sun \n",
    "    # Setting the pen color to yellow\n",
    "    dudraw.set_pen_color(dudraw.YELLOW)\n",
    "    # Setting the pen width to 1\n",
    "    dudraw.set_pen_width(1)\n",
    "    # Drawing a large yellow circle to act as the sun\n",
    "    dudraw.filled_ellipse(x + 500 * w, y + 500 * h, 50 * w, 50 * h)\n",
    "\n",
    "    # Drawing the boat\n",
    "    # Setting the pen color to black\n",
    "    dudraw.set_pen_color(dudraw.BLACK)\n",
    "    # Setting the pen width to 2\n",
    "    dudraw.set_pen_width(2)\n",
    "    # Drawing the boat\n",
    "    dudraw.line(x + 185 * w, y + 105 * h, x + 330 * w, y + 105 * h) \n",
    "    dudraw.line(x + 185 * w, y + 105 * h, x + 220 * w, y + 70 * h)\n",
    "    dudraw.line(x + 330 * w, y + 105 * h, x + 295 * w, y + 70 * h)\n",
    "    dudraw.line(x + 220 * w, y + 70 * h, x + 295 * w, y + 70 * h)\n",
    "    dudraw.line(x + 257.5 * w, y + 105 * h, x + 257.5 * w, y + 215 * h)\n",
    "    dudraw.filled_triangle(x + 257.5 * w, y + 215 * h, x + 257.5 * w, y + 185 * h, x + 220 * w, y + 200 * h)"
   ]
  },
  {
   "cell_type": "code",
   "execution_count": 4,
   "metadata": {},
   "outputs": [],
   "source": [
    "dudraw.set_canvas_size(500, 500)\n",
    "dudraw.set_x_scale(0, 500)\n",
    "dudraw.set_y_scale(0, 500)\n",
    "dudraw.set_pen_color(dudraw.LIGHT_GRAY)\n",
    "dudraw.filled_rectangle(0, 0, 500, 500)\n",
    "\n",
    "\n",
    "my_drawing(25, 25, 225, 225)\n",
    "my_drawing(25, 375, 200, 50)\n",
    "my_drawing(375, 275, 50, 200)\n",
    "my_drawing(375, 125, 50, 50)\n",
    "\n",
    "dudraw.show(float('inf'))"
   ]
  }
 ],
 "metadata": {
  "kernelspec": {
   "display_name": "Python 3.10.7 64-bit",
   "language": "python",
   "name": "python3"
  },
  "language_info": {
   "codemirror_mode": {
    "name": "ipython",
    "version": 3
   },
   "file_extension": ".py",
   "mimetype": "text/x-python",
   "name": "python",
   "nbconvert_exporter": "python",
   "pygments_lexer": "ipython3",
   "version": "3.10.7"
  },
  "orig_nbformat": 4,
  "vscode": {
   "interpreter": {
    "hash": "aee8b7b246df8f9039afb4144a1f6fd8d2ca17a180786b69acc140d282b71a49"
   }
  }
 },
 "nbformat": 4,
 "nbformat_minor": 2
}
