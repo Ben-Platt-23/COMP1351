{
 "cells": [
  {
   "cell_type": "code",
   "execution_count": 1,
   "metadata": {},
   "outputs": [
    {
     "data": {
      "text/plain": [
       "' \\n    File Name: platt_project3_scalable_boat.py\\n    Author: Ben Platt\\n    Date: 09/30/22\\n    Course: COMP 1351\\n    Assignment: Project 3\\n    Collaborators: None\\n    Internet Source: None\\n'"
      ]
     },
     "execution_count": 1,
     "metadata": {},
     "output_type": "execute_result"
    }
   ],
   "source": [
    "\"\"\" \n",
    "    File Name: platt_project3_scalable_boat.py\n",
    "    Author: Ben Platt\n",
    "    Date: 09/30/22\n",
    "    Course: COMP 1351\n",
    "    Assignment: Project 3\n",
    "    Collaborators: None\n",
    "    Internet Source: None\n",
    "\"\"\""
   ]
  },
  {
   "cell_type": "code",
   "execution_count": 2,
   "metadata": {},
   "outputs": [],
   "source": [
    "import dudraw"
   ]
  },
  {
   "cell_type": "code",
   "execution_count": 3,
   "metadata": {},
   "outputs": [],
   "source": [
    "#\n",
    "def drawing_test(x:float, y:float, w:float, h:float):\n",
    "    \"\"\"\n",
    "    Draws a little boat on the water with the sun in the sky\n",
    "\n",
    "    :param float x: x position of the lower left corner of the wagon\n",
    "    :param float y: y position of the lower left corner of the wagon\n",
    "    :param w: width of the wagon\n",
    "    :param h: height of the wagon\n",
    "    \"\"\"\n",
    "\n",
    "    dudraw.set_canvas_size(500, 500)\n",
    "    dudraw.set_x_scale(0, 500)\n",
    "    dudraw.set_y_scale(0, 500)\n",
    "    dudraw.clear(dudraw.WHITE)\n",
    "\n",
    "\n",
    "    # Drawing the water\n",
    "    dudraw.set_pen_color(dudraw.BOOK_LIGHT_BLUE)\n",
    "    dudraw.set_pen_width(2)\n",
    "    dudraw.filled_rectangle(250, 0, 250, 100)\n",
    "\n",
    "    # Drawing the sun \n",
    "    dudraw.set_pen_color(dudraw.YELLOW)\n",
    "    dudraw.set_pen_width(1)\n",
    "    dudraw.filled_circle(500, 500, 150)\n",
    "\n",
    "    # Drawing the boat\n",
    "    # Drawing the deck\n",
    "    dudraw.set_pen_color(dudraw.BLACK)\n",
    "    dudraw.set_pen_width(2)\n",
    "    dudraw.line(x + 185 * w, y + 105 * h, x + 330 * w, y + 105 * h) \n",
    "    dudraw.line(x + 185 * w, y + 105 * h, x + 220 * w, y + 70 * h)\n",
    "    dudraw.line(x + 330 * w, y + 105 * h, x + 295 * w, y + 70 * h)\n",
    "    dudraw.line(x + 220 * w, y + 70 * h, x + 295 * w, y + 70 * h)\n",
    "    dudraw.line(x + 257.5 * w, y + 105 * h, x + 257.5 * w, y + 215 * h)\n",
    "    dudraw.filled_triangle(x + 257.5 * w, y + 215 * h, x + 257.5 * w, y + 185 * h, x + 220 * w, y + 200 * h)\n",
    "\n",
    "\n",
    "    dudraw.show() "
   ]
  },
  {
   "cell_type": "code",
   "execution_count": 4,
   "metadata": {},
   "outputs": [],
   "source": [
    "drawing_test(0.05, 0.05, 0.45, 0.45)"
   ]
  },
  {
   "cell_type": "code",
   "execution_count": 5,
   "metadata": {},
   "outputs": [],
   "source": [
    "#dudraw.set_canvas_size(500, 500)\n",
    "# dudraw.clear(dudraw.LIGHT_GRAY)\n",
    "# dudraw.set_x_scale(0, 500)\n",
    "# dudraw.set_y_scale(0, 500)\n",
    "# Draw four copies of your drawing at different locations and with different sizes\n",
    "#drawing_test(25, 25, 225, 225)\n",
    "#drawing_test(25, 375, 200, 50)\n",
    "#drawing_test(375, 275, 50, 200)\n",
    "#drawing_test(375, 125, 50, 50)\n",
    "#dudraw.show(float('inf'))"
   ]
  },
  {
   "cell_type": "code",
   "execution_count": null,
   "metadata": {},
   "outputs": [],
   "source": [
    "#dudraw.set_canvas_size(500, 500)\n",
    "#dudraw.clear(dudraw.LIGHT_GRAY)\n",
    "# Draw four copies of my drawing at different locations and with different sizes\n",
    "#drawing_test(0.05, 0.05, 0.45, 0.45)\n",
    "#drawing_test(0.05, 0.75, 0.4, 0.1)\n",
    "#drawing_test(0.75, 0.55, 0.1, 0.4)\n",
    "#drawing_test(0.75, 0.25, 0.1, 0.1)\n",
    "#dudraw.show(float('inf'))"
   ]
  }
 ],
 "metadata": {
  "kernelspec": {
   "display_name": "Python 3.10.7 64-bit",
   "language": "python",
   "name": "python3"
  },
  "language_info": {
   "codemirror_mode": {
    "name": "ipython",
    "version": 3
   },
   "file_extension": ".py",
   "mimetype": "text/x-python",
   "name": "python",
   "nbconvert_exporter": "python",
   "pygments_lexer": "ipython3",
   "version": "3.10.7"
  },
  "orig_nbformat": 4,
  "vscode": {
   "interpreter": {
    "hash": "aee8b7b246df8f9039afb4144a1f6fd8d2ca17a180786b69acc140d282b71a49"
   }
  }
 },
 "nbformat": 4,
 "nbformat_minor": 2
}
