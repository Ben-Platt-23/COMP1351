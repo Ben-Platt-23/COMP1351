{
 "cells": [
  {
   "cell_type": "code",
   "execution_count": 1,
   "metadata": {},
   "outputs": [
    {
     "data": {
      "text/plain": [
       "' \\n    File Name: platt_project7_last_candy.py\\n    Author: Ben Platt\\n    Date: 10/25/22\\n    Course: COMP 1351\\n    Assignment: Project 7\\n    Collaborators: None\\n    Internet Source: None\\n'"
      ]
     },
     "execution_count": 1,
     "metadata": {},
     "output_type": "execute_result"
    }
   ],
   "source": [
    "\"\"\" \n",
    "    File Name: platt_project7_last_candy.py\n",
    "    Author: Ben Platt\n",
    "    Date: 10/25/22\n",
    "    Course: COMP 1351\n",
    "    Assignment: Project 7\n",
    "    Collaborators: None\n",
    "    Internet Source: None\n",
    "\"\"\""
   ]
  },
  {
   "cell_type": "code",
   "execution_count": 2,
   "metadata": {},
   "outputs": [],
   "source": [
    "global candy_list\n",
    "candy_list = []\n",
    "for pile in range(6):\n",
    "    candy_list.append(7)"
   ]
  },
  {
   "cell_type": "code",
   "execution_count": 3,
   "metadata": {},
   "outputs": [],
   "source": [
    "def display_game(candy_list):\n",
    "    for candy in range(len(candy_list)):\n",
    "        display = ('{}'.format(' >()< ' * int(candy_list[candy])))\n",
    "        print(display)"
   ]
  },
  {
   "cell_type": "code",
   "execution_count": 4,
   "metadata": {},
   "outputs": [],
   "source": [
    "def update_candy_list():\n",
    "    global box_number\n",
    "    box_number = None\n",
    "    while box_number not in range(7) or type(box_number) != int:\n",
    "        box_number = int(input('Please enter a number corresponding to a box of candy (from 1 to 6): '))\n",
    "        if candy_list[box_number-1] == 0:\n",
    "            update_candy_list()\n",
    "        if box_number in range(7) and type(box_number) == int:\n",
    "            break\n",
    "\n",
    "\n",
    "    global candy_amount\n",
    "    candy_amount = None\n",
    "    while candy_amount not in range(8) or type(candy_amount) != int:\n",
    "        candy_amount = int(input('Please enter the amount of candy you would like to remove from the selected box'))\n",
    "        if candy_amount in range(8) and type(candy_amount) == int:\n",
    "            break\n",
    "        \n",
    "\n",
    "    if box_number == 6:\n",
    "        box_number = 6\n",
    "    else:\n",
    "        box_number = box_number - 1\n",
    "    \n",
    "    if box_number == 6:\n",
    "        candy_list[5] -= candy_amount\n",
    "    else:\n",
    "        candy_list[box_number] -= candy_amount\n"
   ]
  },
  {
   "cell_type": "code",
   "execution_count": 5,
   "metadata": {},
   "outputs": [],
   "source": [
    "def last_candy():\n",
    "    print(\"You start out with 6 boxes of candy, and each box contains 7 pieces of candy.\\nAt each player’s turn, the player has to remove some candy from one of the boxes.\\nThe player can choose the box and the number of pieces of candy to remove from that box.\\nThe player who takes the last piece of candy wins the game.\")\n",
    "    \n",
    "    global player1\n",
    "    player1 = str(input('Please enter the name of player 1: '))\n",
    "    global player2\n",
    "    player2 = str(input('Please enter the name of player 2: '))\n",
    "\n",
    "    global p1turn\n",
    "    p1turn = True\n",
    "    global p2turn\n",
    "    p2turn = False\n",
    "\n",
    "    def win_check():\n",
    "        if p1turn == True:\n",
    "            print(\"Congratulations \" + str(player1) + \" you won!!!\")\n",
    "        elif p2turn == True:\n",
    "            print(\"Congratulations \" + str(player2) + \" you won!!!\")\n",
    "\n",
    "    while sum(candy_list) != 0:\n",
    "        if p1turn == True:\n",
    "            print(\"It is \" + str(player1) + \"'s turn.\")\n",
    "        elif p2turn == True:\n",
    "            print(\"It is \" + str(player2) + \"'s turn.\")\n",
    "\n",
    "        \n",
    "        display_game(candy_list)\n",
    "        update_candy_list()\n",
    "        if sum(candy_list) == 0:\n",
    "            win_check()\n",
    "        else:\n",
    "            continue\n",
    "            \n",
    "        if p1turn == True:\n",
    "            p2turn = True\n",
    "            p1turn = False\n",
    "\n",
    "        elif p2turn == True:\n",
    "            p1turn = True\n",
    "            p2turn = False"
   ]
  },
  {
   "cell_type": "code",
   "execution_count": 6,
   "metadata": {},
   "outputs": [
    {
     "name": "stdout",
     "output_type": "stream",
     "text": [
      "You start out with 6 boxes of candy, and each box contains 7 pieces of candy.\n",
      "At each player’s turn, the player has to remove some candy from one of the boxes.\n",
      "The player can choose the box and the number of pieces of candy to remove from that box.\n",
      "The player who takes the last piece of candy wins the game.\n",
      "It is b's turn.\n",
      " >()<  >()<  >()<  >()<  >()<  >()<  >()< \n",
      " >()<  >()<  >()<  >()<  >()<  >()<  >()< \n",
      " >()<  >()<  >()<  >()<  >()<  >()<  >()< \n",
      " >()<  >()<  >()<  >()<  >()<  >()<  >()< \n",
      " >()<  >()<  >()<  >()<  >()<  >()<  >()< \n",
      " >()<  >()<  >()<  >()<  >()<  >()<  >()< \n",
      "It is b's turn.\n",
      "\n",
      " >()<  >()<  >()<  >()<  >()<  >()<  >()< \n",
      " >()<  >()<  >()<  >()<  >()<  >()<  >()< \n",
      " >()<  >()<  >()<  >()<  >()<  >()<  >()< \n",
      " >()<  >()<  >()<  >()<  >()<  >()<  >()< \n",
      " >()<  >()<  >()<  >()<  >()<  >()<  >()< \n",
      "It is b's turn.\n",
      "\n",
      "\n",
      " >()<  >()<  >()<  >()<  >()<  >()<  >()< \n",
      " >()<  >()<  >()<  >()<  >()<  >()<  >()< \n",
      " >()<  >()<  >()<  >()<  >()<  >()<  >()< \n",
      " >()<  >()<  >()<  >()<  >()<  >()<  >()< \n",
      "It is b's turn.\n",
      "\n",
      "\n",
      "\n",
      " >()<  >()<  >()<  >()<  >()<  >()<  >()< \n",
      " >()<  >()<  >()<  >()<  >()<  >()<  >()< \n",
      " >()<  >()<  >()<  >()<  >()<  >()<  >()< \n",
      "It is b's turn.\n",
      "\n",
      "\n",
      "\n",
      "\n",
      " >()<  >()<  >()<  >()<  >()<  >()<  >()< \n",
      " >()<  >()<  >()<  >()<  >()<  >()<  >()< \n",
      "It is b's turn.\n",
      "\n",
      "\n",
      "\n",
      "\n",
      "\n",
      " >()<  >()<  >()<  >()<  >()<  >()<  >()< \n",
      "Congratulations b you won!!!\n"
     ]
    }
   ],
   "source": [
    "last_candy()"
   ]
  }
 ],
 "metadata": {
  "kernelspec": {
   "display_name": "Python 3.10.7 64-bit",
   "language": "python",
   "name": "python3"
  },
  "language_info": {
   "codemirror_mode": {
    "name": "ipython",
    "version": 3
   },
   "file_extension": ".py",
   "mimetype": "text/x-python",
   "name": "python",
   "nbconvert_exporter": "python",
   "pygments_lexer": "ipython3",
   "version": "3.10.7"
  },
  "orig_nbformat": 4,
  "vscode": {
   "interpreter": {
    "hash": "aee8b7b246df8f9039afb4144a1f6fd8d2ca17a180786b69acc140d282b71a49"
   }
  }
 },
 "nbformat": 4,
 "nbformat_minor": 2
}
