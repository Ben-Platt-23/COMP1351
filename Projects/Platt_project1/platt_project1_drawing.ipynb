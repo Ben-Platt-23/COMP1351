{
 "cells": [
  {
   "cell_type": "code",
   "execution_count": 1,
   "metadata": {},
   "outputs": [
    {
     "data": {
      "text/plain": [
       "'\\nAuthor: Ben Platt\\nDate: 09/13/22\\nCourse: COMP-1351\\nAssignment: Project 1 Create a Drawing\\n'"
      ]
     },
     "execution_count": 1,
     "metadata": {},
     "output_type": "execute_result"
    }
   ],
   "source": [
    "'''\n",
    "Author: Ben Platt\n",
    "Date: 09/13/22\n",
    "Course: COMP-1351\n",
    "Assignment: Project 1 Create a Drawing\n",
    "'''"
   ]
  },
  {
   "cell_type": "code",
   "execution_count": 2,
   "metadata": {},
   "outputs": [],
   "source": [
    "# Importing the DUdraw package\n",
    "\n",
    "import dudraw"
   ]
  },
  {
   "cell_type": "code",
   "execution_count": 3,
   "metadata": {},
   "outputs": [],
   "source": [
    "# Defining my function 'my_drawing' which will run the script to create my image/drawing\n",
    "def my_drawing():\n",
    "    # Setting the size of the image and creating a scale\n",
    "    dudraw.set_canvas_size(500, 500)\n",
    "    dudraw.set_x_scale(0, 500)\n",
    "    dudraw.set_y_scale(0, 500)\n",
    "\n",
    "    # Setting the background to white \n",
    "    dudraw.clear(dudraw.WHITE)\n",
    "\n",
    "    # Drawing all of the light blue circles to create the water\n",
    "    dudraw.set_pen_color(dudraw.BOOK_LIGHT_BLUE)\n",
    "    dudraw.set_pen_width(1)\n",
    "    dudraw.filled_circle(25, 15, 70)\n",
    "    dudraw.set_pen_color(dudraw.BOOK_LIGHT_BLUE)\n",
    "    dudraw.set_pen_width(1)\n",
    "    dudraw.filled_circle(100, 15, 70)\n",
    "    dudraw.set_pen_color(dudraw.BOOK_LIGHT_BLUE)\n",
    "    dudraw.set_pen_width(1)\n",
    "    dudraw.filled_circle(175, 15, 70)\n",
    "    dudraw.set_pen_color(dudraw.BOOK_LIGHT_BLUE)\n",
    "    dudraw.set_pen_width(1)\n",
    "    dudraw.filled_circle(250, 15, 70)\n",
    "    dudraw.set_pen_color(dudraw.BOOK_LIGHT_BLUE)\n",
    "    dudraw.set_pen_width(1)\n",
    "    dudraw.filled_circle(325, 15, 70)\n",
    "    dudraw.set_pen_color(dudraw.BOOK_LIGHT_BLUE)\n",
    "    dudraw.set_pen_width(1)\n",
    "    dudraw.filled_circle(400, 15, 70)\n",
    "    dudraw.set_pen_color(dudraw.BOOK_LIGHT_BLUE)\n",
    "    dudraw.set_pen_width(1)\n",
    "    dudraw.filled_circle(475, 15, 70)\n",
    "\n",
    "    # Creating the sun in the top right corner\n",
    "    dudraw.set_pen_color(dudraw.YELLOW)\n",
    "    dudraw.set_pen_width(1)\n",
    "    dudraw.filled_circle(500, 500, 150)\n",
    "\n",
    "    # Drawing a horiztonal line making the boat deck\n",
    "    dudraw.set_pen_color(dudraw.BLACK)\n",
    "    dudraw.set_pen_width(2)\n",
    "    dudraw.line(185, 105, 330, 105)\n",
    "\n",
    "    # Drawing the left side slanted line \n",
    "    dudraw.set_pen_color(dudraw.BLACK)\n",
    "    dudraw.set_pen_width(2)\n",
    "    dudraw.line(185, 105, 220, 70)\n",
    "\n",
    "    # Drawing the right side slanted line\n",
    "    dudraw.set_pen_color(dudraw.BLACK)\n",
    "    dudraw.set_pen_width(2)\n",
    "    dudraw.line(330, 105, 295, 70)\n",
    "\n",
    "    # Drawing a horizontal line making the bottom of the boat\n",
    "    dudraw.set_pen_color(dudraw.BLACK)\n",
    "    dudraw.set_pen_width(2)\n",
    "    dudraw.line(220, 70, 295, 70)\n",
    "\n",
    "    # Drawing the mast\n",
    "    dudraw.set_pen_color(dudraw.BLACK)\n",
    "    dudraw.set_pen_width(2)\n",
    "    dudraw.line(257.5, 105, 257.5, 215)\n",
    "    # Drawing the flag on the mast\n",
    "    dudraw.set_pen_color(dudraw.BLACK)\n",
    "    dudraw.set_pen_width(2)\n",
    "    dudraw.filled_triangle(257.5, 215, 257.5, 185, 220, 200)\n",
    "\n",
    "    # Showing the drawing\n",
    "    dudraw.show(10)"
   ]
  },
  {
   "cell_type": "code",
   "execution_count": 4,
   "metadata": {},
   "outputs": [],
   "source": [
    "# Calling my function\n",
    "my_drawing()"
   ]
  }
 ],
 "metadata": {
  "kernelspec": {
   "display_name": "Python 3.10.7 64-bit",
   "language": "python",
   "name": "python3"
  },
  "language_info": {
   "codemirror_mode": {
    "name": "ipython",
    "version": 3
   },
   "file_extension": ".py",
   "mimetype": "text/x-python",
   "name": "python",
   "nbconvert_exporter": "python",
   "pygments_lexer": "ipython3",
   "version": "3.10.7"
  },
  "orig_nbformat": 4,
  "vscode": {
   "interpreter": {
    "hash": "aee8b7b246df8f9039afb4144a1f6fd8d2ca17a180786b69acc140d282b71a49"
   }
  }
 },
 "nbformat": 4,
 "nbformat_minor": 2
}
