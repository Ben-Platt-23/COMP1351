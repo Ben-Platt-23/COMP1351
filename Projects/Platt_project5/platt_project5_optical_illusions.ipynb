{
 "cells": [
  {
   "cell_type": "code",
   "execution_count": 1,
   "metadata": {},
   "outputs": [
    {
     "data": {
      "text/plain": [
       "' \\n    File Name: platt_project5_optical_illusions.py\\n    Author: Ben Platt\\n    Date: 10/06/22\\n    Course: COMP 1351\\n    Assignment: Project 4\\n    Collaborators: None\\n    Internet Source: None\\n'"
      ]
     },
     "execution_count": 1,
     "metadata": {},
     "output_type": "execute_result"
    }
   ],
   "source": [
    "\"\"\" \n",
    "    File Name: platt_project5_optical_illusions.py\n",
    "    Author: Ben Platt\n",
    "    Date: 10/06/22\n",
    "    Course: COMP 1351\n",
    "    Assignment: Project 4\n",
    "    Collaborators: None\n",
    "    Internet Source: None\n",
    "\"\"\""
   ]
  },
  {
   "cell_type": "code",
   "execution_count": 2,
   "metadata": {},
   "outputs": [],
   "source": [
    "import dudraw"
   ]
  },
  {
   "cell_type": "code",
   "execution_count": 3,
   "metadata": {},
   "outputs": [],
   "source": [
    "dudraw.set_canvas_size(500, 500)\n",
    "dudraw.set_x_scale(0, 500)\n",
    "dudraw.set_y_scale(0, 500)\n",
    "dudraw.clear(dudraw.BLUE)\n",
    "\n",
    "dudraw.set_pen_color(dudraw.GRAY)\n",
    "dudraw.set_pen_width(7.5)\n",
    "dudraw.rectangle(250, 250, 250, 250)\n",
    "\n",
    "def lines():\n",
    "    x0 = 0\n",
    "    y0 = 500\n",
    "    x1 = 500\n",
    "    y1 = 500\n",
    "\n",
    "    x01 = 100\n",
    "    y01 = 500\n",
    "    x11 = 100\n",
    "    y11 = 0\n",
    "    for a in range(4):\n",
    "        for b in range(5):\n",
    "            dudraw.set_pen_color(dudraw.GRAY)\n",
    "            dudraw.set_pen_width(5)\n",
    "            dudraw.line(x0, y0, x1, y1)\n",
    "            y0 = y0 - 100\n",
    "            y1 = y1 - 100\n",
    "        dudraw.set_pen_color(dudraw.GRAY)\n",
    "        dudraw.set_pen_width(5)\n",
    "        dudraw.line(x01, y01, x11, y11)\n",
    "        x01 = x01 + 100\n",
    "        x11 = x11 + 100\n",
    "\n",
    "def circles():\n",
    "    cx = 100\n",
    "    cy = 400\n",
    "    cr = 10\n",
    "    for a in range(4):\n",
    "        for b in range(1):\n",
    "            dudraw.set_pen_color(dudraw.WHITE)\n",
    "            dudraw.set_pen_width(1)\n",
    "            dudraw.filled_circle(cx, cy, cr)\n",
    "            dudraw.filled_circle(cx + 100, cy, cr)\n",
    "            dudraw.filled_circle(cx + 200, cy, cr)\n",
    "            dudraw.filled_circle(cx + 300, cy, cr)\n",
    "        cy = cy - 100\n",
    "\n",
    "\n",
    "lines()\n",
    "circles()\n",
    "\n",
    "        \n",
    "dudraw.show()\n"
   ]
  }
 ],
 "metadata": {
  "kernelspec": {
   "display_name": "Python 3.10.7 64-bit",
   "language": "python",
   "name": "python3"
  },
  "language_info": {
   "codemirror_mode": {
    "name": "ipython",
    "version": 3
   },
   "file_extension": ".py",
   "mimetype": "text/x-python",
   "name": "python",
   "nbconvert_exporter": "python",
   "pygments_lexer": "ipython3",
   "version": "3.10.7"
  },
  "orig_nbformat": 4,
  "vscode": {
   "interpreter": {
    "hash": "aee8b7b246df8f9039afb4144a1f6fd8d2ca17a180786b69acc140d282b71a49"
   }
  }
 },
 "nbformat": 4,
 "nbformat_minor": 2
}
