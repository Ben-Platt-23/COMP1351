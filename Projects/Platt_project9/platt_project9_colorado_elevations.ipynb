{
 "cells": [
  {
   "cell_type": "code",
   "execution_count": 1,
   "metadata": {},
   "outputs": [
    {
     "name": "stdout",
     "output_type": "stream",
     "text": [
      "14104\n"
     ]
    },
    {
     "ename": "SystemExit",
     "evalue": "",
     "output_type": "error",
     "traceback": [
      "An exception has occurred, use %tb to see the full traceback.\n",
      "\u001b[0;31mSystemExit\u001b[0m\n"
     ]
    },
    {
     "name": "stderr",
     "output_type": "stream",
     "text": [
      "/Library/Frameworks/Python.framework/Versions/3.10/lib/python3.10/site-packages/IPython/core/interactiveshell.py:3386: UserWarning: To exit: use 'exit', 'quit', or Ctrl-D.\n",
      "  warn(\"To exit: use 'exit', 'quit', or Ctrl-D.\", stacklevel=1)\n"
     ]
    }
   ],
   "source": [
    "\"\"\" \n",
    "    File Name: platt_project9_colorado_elevations.py\n",
    "    Author: Ben Platt\n",
    "    Date: 11/18/22\n",
    "    Course: COMP 1351\n",
    "    Assignment: Project 7\n",
    "    Collaborators: Dr. Stevens in class demonstration and slack code\n",
    "    Internet Source: None\n",
    "\"\"\"\n",
    "\n",
    "# Importing du draw\n",
    "import dudraw\n",
    "\n",
    "# creating an empty list for the elevation values\n",
    "elevations_txt = open('CO_elevations_feet.txt')\n",
    "elevations_list = []\n",
    "\n",
    "for line in elevations_txt:\n",
    "    lines = line.split()\n",
    "    values = [int(i) for i in lines]\n",
    "    elevations_list.append(values)\n",
    "\n",
    "\n",
    "# Displaying the max elevation \n",
    "max_value = 0\n",
    "for row in elevations_list:\n",
    "    for value in row:\n",
    "        if value > max_value:\n",
    "            max_value = value\n",
    "        else:\n",
    "            continue\n",
    "print(max_value)\n",
    "\n",
    "# This reverses the elevations list\n",
    "for i in range(len(elevations_list)):\n",
    "    elevations_list[i]=elevations_list[i][::-1]\n",
    "\n",
    "# Creating two variables, one for rows that would just the length of the whole list,\n",
    "# and cols which is the length of one internal lists in the 2D list\n",
    "rows=len(elevations_list)\n",
    "cols=len(elevations_list[0])\n",
    "\n",
    "# Setting canvas size to exactly the amount of rows and columns\n",
    "dudraw.set_canvas_size(cols, rows)\n",
    "\n",
    "# setting the scale also to be able to hold one point for each elevation \n",
    "dudraw.set_x_scale(0,cols-1)\n",
    "dudraw.set_y_scale(0,rows-1)\n",
    "\n",
    "# Clearing the canvas for the image\n",
    "dudraw.clear()\n",
    "\n",
    "# Starting a while loop that encompasses the animation\n",
    "while True:\n",
    "    # Goes through each row\n",
    "    for i in range(rows):\n",
    "            # Goes through each value in the row\n",
    "            for j in range(cols):\n",
    "                # Setting the proper grayscale intensity for each dot using this equation \n",
    "                color_val = int((elevations_list[i][j]) / 250000 * 255)\n",
    "\n",
    "                # Setting the pen color using the rgb function and inputting the same RGB value for each parameter\n",
    "                dudraw.set_pen_color_rgb(color_val, color_val, color_val)\n",
    "\n",
    "                # Drawing the points, using j and i as x-cords\n",
    "                dudraw.filled_square(j, i, 1)\n",
    "    \n",
    "\n",
    "    # Checks if the mouse has been pressed\n",
    "    if dudraw.mouse_pressed():\n",
    "        # If it has then it changes the pen color to white\n",
    "        dudraw.set_pen_color(dudraw.WHITE)\n",
    "\n",
    "        # Setting i and j to a rounded version of whatever the x,y points are that the user clicked on\n",
    "        i=int(dudraw.mouse_y())\n",
    "        j=int(dudraw.mouse_x())\n",
    "\n",
    "        # Displaying the elevation in the bottom right after a click\n",
    "        dudraw.text(485, 25, str(elevations_list[i][j]))\n",
    "        # Telling the user what the exact location of the elevation value in the elevations list \n",
    "        dudraw.text(j,i,f'You clicked on pixel row {i} and column {j}')\n",
    "\n",
    "    # Showing the animation \n",
    "    dudraw.show(100)"
   ]
  },
  {
   "cell_type": "code",
   "execution_count": null,
   "metadata": {},
   "outputs": [],
   "source": []
  }
 ],
 "metadata": {
  "kernelspec": {
   "display_name": "Python 3.10.7 64-bit",
   "language": "python",
   "name": "python3"
  },
  "language_info": {
   "codemirror_mode": {
    "name": "ipython",
    "version": 3
   },
   "file_extension": ".py",
   "mimetype": "text/x-python",
   "name": "python",
   "nbconvert_exporter": "python",
   "pygments_lexer": "ipython3",
   "version": "3.10.7"
  },
  "orig_nbformat": 4,
  "vscode": {
   "interpreter": {
    "hash": "aee8b7b246df8f9039afb4144a1f6fd8d2ca17a180786b69acc140d282b71a49"
   }
  }
 },
 "nbformat": 4,
 "nbformat_minor": 2
}
