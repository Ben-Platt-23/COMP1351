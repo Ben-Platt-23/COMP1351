{
 "cells": [
  {
   "cell_type": "code",
   "execution_count": 1,
   "metadata": {},
   "outputs": [
    {
     "data": {
      "text/plain": [
       "' \\n    File Name: platt_project4_animations.py\\n    Author: Ben Platt\\n    Date: 10/06/22\\n    Course: COMP 1351\\n    Assignment: Project 4\\n    Collaborators: None\\n    Internet Source: None\\n'"
      ]
     },
     "execution_count": 1,
     "metadata": {},
     "output_type": "execute_result"
    }
   ],
   "source": [
    "\"\"\" \n",
    "    File Name: platt_project4_animations.py\n",
    "    Author: Ben Platt\n",
    "    Date: 10/06/22\n",
    "    Course: COMP 1351\n",
    "    Assignment: Project 4\n",
    "    Collaborators: None\n",
    "    Internet Source: None\n",
    "\"\"\""
   ]
  },
  {
   "cell_type": "code",
   "execution_count": 2,
   "metadata": {},
   "outputs": [],
   "source": [
    "import dudraw\n",
    "import random"
   ]
  },
  {
   "cell_type": "code",
   "execution_count": 3,
   "metadata": {},
   "outputs": [],
   "source": [
    "from secrets import randbelow\n",
    "\n",
    "\n",
    "def my_animation(x:float, y:float, w:float, h:float):\n",
    "    dudraw.set_canvas_size(500, 500)\n",
    "    dudraw.set_x_scale(0, 500)\n",
    "    dudraw.set_y_scale(0, 500)\n",
    "\n",
    "    if w > 1:\n",
    "        w = w / 10\n",
    "    if h > 1:\n",
    "        h = h / 50\n",
    "\n",
    "    rec_velo = .35\n",
    "    rec_velo2 = .35\n",
    "    # Taken from MY project 3 code\n",
    "\n",
    "    x = x + 75 * w\n",
    "    y = y + 75 * h\n",
    "    w = w * 5\n",
    "    h = h * 25\n",
    "    \n",
    "    while True:\n",
    "        if dudraw.has_next_key_typed():\n",
    "            key = dudraw.next_key_typed()\n",
    "            if key == 'g':\n",
    "                dudraw.clear_rgb(random.randint(0, 255), random.randint(0, 255), random.randint(0, 255))\n",
    "\n",
    "        # dudraw.clear(x)\n",
    "\n",
    "    \n",
    "        dudraw.set_pen_color(dudraw.ORANGE)\n",
    "        dudraw.set_pen_width(5)\n",
    "        dudraw.filled_ellipse(x + 150, y + 50, w * 5, h * 2.5)\n",
    "\n",
    "        dudraw.set_pen_color(dudraw.BLUE)\n",
    "        dudraw.set_pen_width(5)\n",
    "        dudraw.filled_ellipse(x, y, w, h)\n",
    "\n",
    "        dudraw.show(1)\n",
    "\n",
    "\n",
    "        y = y + rec_velo\n",
    "        x = x + rec_velo\n",
    "        \n",
    "        y2 = y + rec_velo2\n",
    "        x2 = x + rec_velo2\n",
    "\n",
    "        if y > 475:\n",
    "            rec_velo = -rec_velo\n",
    "        if y < 25:\n",
    "            rec_velo = .35\n",
    "\n",
    "        if x > 475:\n",
    "            rec_velo = -rec_velo\n",
    "        if x < 25:\n",
    "            rec_velo = .35\n",
    "\n",
    "    \n",
    "        if y2 > 475:\n",
    "            rec_velo2 = -rec_velo\n",
    "        if y2 < 25:\n",
    "            rec_velo = .35\n",
    "\n",
    "        if x2 > 475:\n",
    "            rec_velo = -rec_velo\n",
    "        if x2 < 25:\n",
    "            rec_velo = .35\n",
    "        \n",
    "        \n",
    "my_animation(25, 25, 25, 250)"
   ]
  },
  {
   "cell_type": "code",
   "execution_count": 10,
   "metadata": {},
   "outputs": [
    {
     "name": "stdout",
     "output_type": "stream",
     "text": [
      "[12, 15]\n",
      "[12, 15]\n",
      "[12, 15, 13, 20]\n"
     ]
    }
   ],
   "source": [
    "def foo(some_list: list[int])->None:\n",
    "    del some_list[0]\n",
    "\n",
    "a = [6, 12, 15, 13]\n",
    "b  = a\n",
    "c = [6, 12, 15, 13]\n",
    "b.pop() \n",
    "c.append(20) \n",
    "foo(b)\n",
    "foo(c)\n",
    "\n",
    "\n",
    "print(a)\n",
    "\n",
    "print(b)\n",
    "\n",
    "print(c)"
   ]
  },
  {
   "cell_type": "code",
   "execution_count": 1,
   "metadata": {},
   "outputs": [],
   "source": [
    "some_list = [5, 1, 6, 7]\n",
    "another_list = [3, 8, 10]\n",
    "\n",
    "some_list.insert(0, 9)\n",
    "another_list.insert(3, 9)\n",
    "some_list.insert(2, 15)\n",
    "some_list.pop(1)\n",
    "another_list.remove(3)\n",
    "some_list.reverse()\n",
    "another_list.sort()\n",
    "some_list.append(another_list.index(10))\n",
    "some_list.append(another_list.count(4))\n",
    "some_list.extend(another_list)"
   ]
  },
  {
   "cell_type": "code",
   "execution_count": 2,
   "metadata": {},
   "outputs": [
    {
     "data": {
      "text/plain": [
       "[7, 6, 1, 15, 9, 2, 0, 8, 9, 10]"
      ]
     },
     "execution_count": 2,
     "metadata": {},
     "output_type": "execute_result"
    }
   ],
   "source": [
    "some_list"
   ]
  },
  {
   "cell_type": "code",
   "execution_count": 21,
   "metadata": {},
   "outputs": [],
   "source": [
    "def contains(int_list, int_target):\n",
    "    if int_target in int_list:\n",
    "        return True\n",
    "    else:\n",
    "        return False\n"
   ]
  },
  {
   "cell_type": "code",
   "execution_count": 27,
   "metadata": {},
   "outputs": [
    {
     "data": {
      "text/plain": [
       "False"
      ]
     },
     "execution_count": 27,
     "metadata": {},
     "output_type": "execute_result"
    }
   ],
   "source": [
    "contains([], 5)"
   ]
  },
  {
   "cell_type": "code",
   "execution_count": null,
   "metadata": {},
   "outputs": [],
   "source": []
  }
 ],
 "metadata": {
  "kernelspec": {
   "display_name": "Python 3.10.7 64-bit",
   "language": "python",
   "name": "python3"
  },
  "language_info": {
   "codemirror_mode": {
    "name": "ipython",
    "version": 3
   },
   "file_extension": ".py",
   "mimetype": "text/x-python",
   "name": "python",
   "nbconvert_exporter": "python",
   "pygments_lexer": "ipython3",
   "version": "3.10.7"
  },
  "orig_nbformat": 4,
  "vscode": {
   "interpreter": {
    "hash": "aee8b7b246df8f9039afb4144a1f6fd8d2ca17a180786b69acc140d282b71a49"
   }
  }
 },
 "nbformat": 4,
 "nbformat_minor": 2
}
