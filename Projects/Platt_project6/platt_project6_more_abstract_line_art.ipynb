{
 "cells": [
  {
   "cell_type": "code",
   "execution_count": 1,
   "metadata": {},
   "outputs": [
    {
     "data": {
      "text/plain": [
       "' \\n    File Name: platt_project5_optical_illusions.py\\n    Author: Ben Platt\\n    Date: 10/06/22\\n    Course: COMP 1351\\n    Assignment: Project 4\\n    Collaborators: None\\n    Internet Source: None\\n'"
      ]
     },
     "execution_count": 1,
     "metadata": {},
     "output_type": "execute_result"
    }
   ],
   "source": [
    "\"\"\" \n",
    "    File Name: platt_project5_optical_illusions.py\n",
    "    Author: Ben Platt\n",
    "    Date: 10/06/22\n",
    "    Course: COMP 1351\n",
    "    Assignment: Project 4\n",
    "    Collaborators: None\n",
    "    Internet Source: None\n",
    "\"\"\""
   ]
  },
  {
   "cell_type": "code",
   "execution_count": 2,
   "metadata": {},
   "outputs": [],
   "source": [
    "from dudraw import *\n",
    "from random import *"
   ]
  },
  {
   "cell_type": "code",
   "execution_count": 3,
   "metadata": {},
   "outputs": [],
   "source": [
    "def animation():\n",
    "    \"\"\"\n",
    "    Animation function houses the dudraw required statements\n",
    "    Creating the x and y lists and their speed list\n",
    "    Main for loop for creating the animation\n",
    "    \"\"\"\n",
    "    # Creating canvas 500 x 500\n",
    "    dudraw.set_canvas_size(500, 500)\n",
    "    # Setting the x and y scale for the canvas\n",
    "    dudraw.set_x_scale(0, 500)\n",
    "    dudraw.set_y_scale(0, 500)\n",
    "    # Clearing the background/setting it to white\n",
    "    dudraw.clear(dudraw.WHITE)\n",
    "\n",
    "    # Creating the x and y point lists using a for loop and a random number generator \n",
    "    x_list = []\n",
    "    for i in range(100):\n",
    "        x_list.append(randint(0, 500))\n",
    "    y_list = []\n",
    "    for i in range(100):\n",
    "        y_list.append(randint(0, 500))\n",
    "\n",
    "    # Creating the speed list for the x and y values \n",
    "    speeds = []\n",
    "    for i in range(100):\n",
    "        speeds.append(uniform(0.0, 0.03))\n",
    "\n",
    "\n",
    "\n",
    "    # Starting the for loop for the animation\n",
    "    for i in range(2):\n",
    "        # using one for loop as an index for the x and y lists\n",
    "        for a in range(len(x_list)):\n",
    "            # setting x and y equal to their respective values in the different lists\n",
    "            x = x_list[a]\n",
    "            y = y_list[a]\n",
    "\n",
    "            # Checking to see if the loop is almost over and setting the second x and y values to index 0 so that the first and last points are connected\n",
    "            if a == 99:\n",
    "                x2 = x_list[a-99]\n",
    "                y2 = y_list[a-99]\n",
    "\n",
    "            # Setting second x and y values to index a+1 as long as a doesn't equal 99\n",
    "            if a != 99:\n",
    "                x2 = x_list[a+1]\n",
    "                y2 = y_list[a+1]\n",
    "\n",
    "            # Setting pen color to black\n",
    "            dudraw.set_pen_color(dudraw.BLACK)\n",
    "            # Setting pen width to 1\n",
    "            dudraw.set_pen_width(1)\n",
    "            # Drawing the line \n",
    "            dudraw.line(x, y, x2, y2)\n",
    "            # Showing for 10 milliseconds\n",
    "            dudraw.show(10)\n",
    "\n",
    "            # Changing speeds when needed to prevent any points going off the canvas\n",
    "            if x >= 500 or x2 >= 500:\n",
    "                for i in range(len(x_list)):\n",
    "                    x_list[i] *= -1\n",
    "            if y >= 500 or y2 >= 500:\n",
    "                for z in range(len(y_list)):\n",
    "                    y_list[z] *= -1\n",
    "            if x <= 0 or x2 <= 0:\n",
    "                for h in range(len(x_list)):\n",
    "                    x_list[h] *= -1\n",
    "            if y <=0 or y2 <= 0:\n",
    "                for o in range(len(y_list)):\n",
    "                    y_list[o] *= -1\n",
    "            \n",
    "\n",
    "            x_list[a] += speeds[a]\n",
    "            y_list[a] += speeds[a]\n",
    "\n",
    "    dudraw.save(\"/users/benplatt/desktop/platt_image.jpg\")\n",
    "    \n",
    "     "
   ]
  },
  {
   "cell_type": "code",
   "execution_count": 4,
   "metadata": {},
   "outputs": [],
   "source": [
    "animation()"
   ]
  }
 ],
 "metadata": {
  "kernelspec": {
   "display_name": "Python 3.10.7 64-bit",
   "language": "python",
   "name": "python3"
  },
  "language_info": {
   "codemirror_mode": {
    "name": "ipython",
    "version": 3
   },
   "file_extension": ".py",
   "mimetype": "text/x-python",
   "name": "python",
   "nbconvert_exporter": "python",
   "pygments_lexer": "ipython3",
   "version": "3.10.7"
  },
  "orig_nbformat": 4,
  "vscode": {
   "interpreter": {
    "hash": "aee8b7b246df8f9039afb4144a1f6fd8d2ca17a180786b69acc140d282b71a49"
   }
  }
 },
 "nbformat": 4,
 "nbformat_minor": 2
}
