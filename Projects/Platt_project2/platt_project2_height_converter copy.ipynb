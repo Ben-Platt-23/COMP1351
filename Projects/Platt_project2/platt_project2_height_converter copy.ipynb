{
 "cells": [
  {
   "cell_type": "code",
   "execution_count": 2,
   "metadata": {},
   "outputs": [
    {
     "data": {
      "text/plain": [
       "'\\nFilename: platt_project2_height_converter.ipynb \\nAuthor: Ben Platt\\nDate: 09/19/22\\nCourse: COMP 1351\\nAssignment: Height Converter project\\nCollaborators: None\\nInternet Source: None\\n'"
      ]
     },
     "execution_count": 2,
     "metadata": {},
     "output_type": "execute_result"
    }
   ],
   "source": [
    "'''\n",
    "Filename: platt_project2_height_converter.ipynb \n",
    "Author: Ben Platt\n",
    "Date: 09/19/22\n",
    "Course: COMP 1351 \n",
    "Assignment: Height Converter project\n",
    "Collaborators: None\n",
    "Internet Source: None\n",
    "'''    "
   ]
  },
  {
   "cell_type": "code",
   "execution_count": 10,
   "metadata": {},
   "outputs": [],
   "source": [
    "import math\n",
    "\n",
    "# Define the height converter function\n",
    "def height_converter():\n",
    "    # Asks for the height value from the user and makes sure its set to a float\n",
    "    height_value = float(input('Please enter your height value in METERS to be converted into feet and inches.'))\n",
    "    # Checks if height value is less than or equal to 0 and calls the function again if there is an invalid entry\n",
    "    if height_value <= 0.0:\n",
    "        print('Invalid entry!')\n",
    "        height_converter()\n",
    "    \n",
    "    # Makes feet variable that takes the height value and multiplies it by 3.28084 to get the amount of feet\n",
    "    converted_height_feet = height_value * (3.28084)\n",
    "    # Takes converted height feet and mods it to create a whole number\n",
    "    converted_height_feet_mod = converted_height_feet % 1\n",
    "    # Subtracts the above variable from converted height feet to get the whole number\n",
    "    converted_height_feet_whole = converted_height_feet - converted_height_feet_mod\n",
    "\n",
    "    # Makes inches variable that takes the height_feet variable and multiplies by 12 to get the amount of inches\n",
    "    converted_height_inches = converted_height_feet * 12\n",
    "    #\n",
    "    converted_height_inches_remainder = converted_height_inches % 12\n",
    "    converted_height_inches_remainder = math.trunc(converted_height_inches_remainder)\n",
    "\n",
    "\n",
    "    \n",
    "    # Prints out final statement displaying converstion data\n",
    "    print('A height of ' + str(height_value) + ' meters is ' + str(converted_height_feet_whole) + ' feet and ' + str(converted_height_inches_remainder) + ' inches.')\n",
    "\n"
   ]
  },
  {
   "cell_type": "code",
   "execution_count": 12,
   "metadata": {},
   "outputs": [
    {
     "name": "stdout",
     "output_type": "stream",
     "text": [
      "A height of 1.0 meters is 3.0 feet and 3 inches.\n"
     ]
    }
   ],
   "source": [
    "height_converter()"
   ]
  }
 ],
 "metadata": {
  "kernelspec": {
   "display_name": "Python 3.10.7 64-bit",
   "language": "python",
   "name": "python3"
  },
  "language_info": {
   "codemirror_mode": {
    "name": "ipython",
    "version": 3
   },
   "file_extension": ".py",
   "mimetype": "text/x-python",
   "name": "python",
   "nbconvert_exporter": "python",
   "pygments_lexer": "ipython3",
   "version": "3.10.7"
  },
  "orig_nbformat": 4,
  "vscode": {
   "interpreter": {
    "hash": "aee8b7b246df8f9039afb4144a1f6fd8d2ca17a180786b69acc140d282b71a49"
   }
  }
 },
 "nbformat": 4,
 "nbformat_minor": 2
}
